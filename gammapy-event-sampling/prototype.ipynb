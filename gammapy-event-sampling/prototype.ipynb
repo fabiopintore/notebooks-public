{
 "cells": [
  {
   "cell_type": "markdown",
   "metadata": {},
   "source": [
    "Gammapy Event Sampling Prototype\n",
    "===========\n",
    "\n",
    "Authors: Fabio Pintore and Axel Donath\n",
    "\n",
    "This notebook sketches a prototype for event sampling with Gammapy.\n",
    "\n",
    "\n",
    "Here is list of TODOs:\n",
    "\n",
    "- debug why the total number events changes when re-executing `MapEventSample.npred_total`\n",
    "- add missing docstrings and make them complete, examples of the dosctring format are in the Gammapy code base (DONE)\n",
    "- add sampling of phi angle for PDF (DONE)\n",
    "- compute the reconstructed positions of the events (DONE)\n",
    "\n",
    "- add application of energy dispersion (DONE)\n",
    "- compute reconstructed energy of the events (DONE)\n",
    "\n"
   ]
  },
  {
   "cell_type": "code",
   "execution_count": 1,
   "metadata": {},
   "outputs": [],
   "source": [
    "%matplotlib inline\n",
    "import matplotlib.pyplot as plt\n",
    "import numpy as np\n",
    "from astropy.table import Table, vstack"
   ]
  },
  {
   "cell_type": "code",
   "execution_count": 2,
   "metadata": {},
   "outputs": [],
   "source": [
    "from gammapy.cube import MapDataset"
   ]
  },
  {
   "cell_type": "code",
   "execution_count": 3,
   "metadata": {},
   "outputs": [],
   "source": [
    "from gammapy.utils.random import get_random_state\n",
    "from gammapy.maps import Map, MapAxis, WcsGeom\n",
    "from gammapy.cube import MapEvaluator\n",
    "from gammapy.cube import MapDataset\n",
    "\n",
    "from astropy import units as u\n",
    "from astropy.table import Table\n",
    "from astropy.coordinates import SkyCoord,Angle"
   ]
  },
  {
   "cell_type": "code",
   "execution_count": 4,
   "metadata": {},
   "outputs": [],
   "source": [
    "from gammapy.image.models import SkyGaussian\n",
    "from gammapy.spectrum.models import PowerLaw\n",
    "from gammapy.cube.models import SkyModel\n",
    "from gammapy.irf import PSF3D, EnergyDependentMultiGaussPSF, EnergyDispersion2D, Background3D\n",
    "from gammapy.utils.energy import EnergyBounds"
   ]
  },
  {
   "cell_type": "code",
   "execution_count": 5,
   "metadata": {},
   "outputs": [],
   "source": [
    "from gammapy.cube import make_psf_map, make_map_background_irf, make_edisp_map"
   ]
  },
  {
   "cell_type": "code",
   "execution_count": 6,
   "metadata": {},
   "outputs": [],
   "source": [
    "from gammapy.time.models import LightCurveTableModel as LC"
   ]
  },
  {
   "cell_type": "markdown",
   "metadata": {},
   "source": [
    "### Inverse CDF Sampler"
   ]
  },
  {
   "cell_type": "code",
   "execution_count": 7,
   "metadata": {},
   "outputs": [],
   "source": [
    "class InverseCDFSampler:\n",
    "    \"\"\"Inverse CDF sampler.\n",
    "    \n",
    "    Parameters\n",
    "    ----------\n",
    "    pdf : `~`gammapy.maps.Map`\n",
    "      predicted source counts  \n",
    "    \n",
    "    \"\"\"\n",
    "    def __init__(self, pdf, axis=None, random_state=0):\n",
    "        \"\"\"Determines a set of random numbers and calculate the cumulative distribution function\"\"\"\n",
    "        self.random_state = get_random_state(random_state) \n",
    "        self.axis = axis       \n",
    "        \n",
    "        if axis is not None:\n",
    "            self.cdf = np.cumsum(pdf, axis=self.axis)\n",
    "            self.cdf /= self.cdf[:, [-1]]\n",
    "        else:\n",
    "            self.pdf_shape = pdf.shape  #gives the shape of the PDF array\n",
    "\n",
    "            pdf = pdf.ravel() / pdf.sum()  #flattens the array along one axis\n",
    "            self.sortindex = np.argsort(pdf, axis=None) #sorting of the elements and giving the indexes\n",
    "\n",
    "            self.pdf = pdf[self.sortindex]  #sort the pdf array\n",
    "            self.cdf = np.cumsum(self.pdf)  #evaluate the cumulative sum of the PDF array\n",
    "        \n",
    "    def sample_axis(self):\n",
    "        \"\"\"Sample along a given axis.\n",
    "        \"\"\"\n",
    "        choice = self.random_state.uniform(high=1, size=len(self.cdf))\n",
    "        \n",
    "        #find the indices corresponding to this point on the CDF\n",
    "        index = np.argmin(np.abs(choice.reshape(-1, 1) - self.cdf), axis=self.axis)\n",
    "        \n",
    "        return index + self.random_state.uniform(low=-0.5, high=0.5,\n",
    "                                                 size=len(self.cdf))\n",
    "    def sample(self, size):\n",
    "        \"\"\"Draw sample from the given PDF.\n",
    "        \n",
    "        Parameters\n",
    "        ----------\n",
    "        size : int\n",
    "            Number of samples to draw.\n",
    "            \n",
    "        Returns\n",
    "        -------\n",
    "        index : tuple of `~numpy.ndarray`\n",
    "            Coordinates of the drawn sample      \n",
    "        \"\"\"\n",
    "        #pick numbers which are uniformly random over the cumulative distribution function\n",
    "        choice = self.random_state.uniform(high=1, size=size)\n",
    "\n",
    "        #find the indices corresponding to this point on the CDF\n",
    "        index = np.searchsorted(self.cdf, choice)\n",
    "        index = self.sortindex[index]\n",
    "\n",
    "        # map back to multi-dimensional indexing\n",
    "        index = np.unravel_index(index, self.pdf_shape) \n",
    "        index = np.vstack(index)\n",
    "\n",
    "        index = index + self.random_state.uniform(low=-0.5, high=0.5,\n",
    "                                      size=index.shape)\n",
    "        return index"
   ]
  },
  {
   "cell_type": "markdown",
   "metadata": {},
   "source": [
    " ### MapEventSampler "
   ]
  },
  {
   "cell_type": "code",
   "execution_count": 14,
   "metadata": {},
   "outputs": [],
   "source": [
    "class MapEventSampler:\n",
    "    \"\"\"Map event sampler\n",
    "    \n",
    "    Parameters\n",
    "    ----------\n",
    "    \n",
    "    npred_map : `~gammapy.maps.Map`\n",
    "        Predicted number of counts map.\n",
    "    background_map : `~gammapy.cube.make_map_background_irf`\n",
    "        IRF background map.\n",
    "    random_state : seed for the random number sampler    \n",
    "    exposure: livetime in hours, e.g. `10 * u.hour`    \n",
    "    lc : `~gammapy.time.models.LightCurveTableModel`\n",
    "        input light-curve of the source, given with columns labelled as \"time\" and \"normalization\" (arbitrary units)\n",
    "        \n",
    "    \"\"\"\n",
    "    \n",
    "#     def __init__(self, npred_map, psf_map=None, edisp_map=None, background_map=None,\n",
    "#                  random_state=0, exposure = 1.0 * u.hour, lc = None):\n",
    "    def __init__(self, npred_map, background_map=None,\n",
    "                 random_state=0, exposure = None, lc = None):\n",
    "        self.random_state = get_random_state(random_state)\n",
    "        self.npred_map = npred_map\n",
    "#         self.psf_map = psf_map\n",
    "#         self.edisp_map = edisp_map\n",
    "        self.background_map = background_map\n",
    "        self.exposure = exposure\n",
    "        self.lc = lc\n",
    "\n",
    "    def npred_total(self):\n",
    "        \"\"\" Calculate the total number of the simulated predicted events \"\"\"       \n",
    "        #return self.random_state.poisson(self.npred_map.data.sum())\n",
    "        return self.random_state.poisson(np.sum(self.npred_map.data))\n",
    "\n",
    "    def nbkgpred_total(self):\n",
    "        \"\"\" Calculate the total number of the simulated background events \"\"\"       \n",
    "        #return self.random_state.poisson(self.npred_map.data.sum())\n",
    "        return self.random_state.poisson(np.sum(self.background_map.data))\n",
    "        \n",
    "    def sample_npred(self):\n",
    "        \"\"\" Calculate energy and coordinates of the simulated source events \"\"\"       \n",
    "        n_events = self.npred_total()\n",
    "        \n",
    "        cdf_sampler = InverseCDFSampler(self.npred_map.data, random_state=self.random_state)\n",
    "        \n",
    "        pix_coords = cdf_sampler.sample(n_events)\n",
    "        coords = self.npred_map.geom.pix_to_coord(pix_coords[::-1])\n",
    "        \n",
    "        normalization = self.lc.table['normalization'].data  \n",
    "        \n",
    "        if self.lc is not None:\n",
    "            time_sampler = InverseCDFSampler(normalization,random_state=self.random_state)\n",
    "            ToA = time_sampler.sample(n_events)\n",
    "        \n",
    "        else:\n",
    "            ToA = self.random_state.uniform(high=self.exposure.to('s').value, size=n_events)\n",
    "\n",
    "        events = Table()\n",
    "        events['lon_true'] = coords[0] * u.deg\n",
    "        events['lat_true'] = coords[1] * u.deg\n",
    "        events['e_true'] = coords[2] * u.TeV\n",
    "        events['time'] = ToA[0] * u.s\n",
    "        return events\n",
    "\n",
    "    def sample_background(self):\n",
    "        \"\"\" Calculate energy and coordinates of the simulated background events \"\"\"       \n",
    "        # sample from background model without applying IRFs\n",
    "        n_events_bkg = self.nbkgpred_total()\n",
    "        cdf_sampler = InverseCDFSampler(self.background_map.data, random_state=self.random_state)\n",
    "        \n",
    "        pix_coords = cdf_sampler.sample(n_events_bkg)\n",
    "        coords = self.npred_map.geom.pix_to_coord(pix_coords[::-1])\n",
    "        \n",
    "        ToA = self.random_state.uniform(high=self.exposure.to('s').value, size=n_events_bkg)\n",
    "        \n",
    "        events_bkg = Table()\n",
    "        events_bkg['lon_true'] = coords[0] * u.deg\n",
    "        events_bkg['lat_true'] = coords[1] * u.deg\n",
    "        events_bkg['e_true'] = coords[2] * u.TeV\n",
    "        events_bkg['time'] = ToA * u.s\n",
    "        return events_bkg\n",
    "\n",
    "    def sample_events(self):\n",
    "        \"\"\"TO DO...\n",
    "        Sample all events.\n",
    "        \n",
    "        Returns\n",
    "        -------\n",
    "        \n",
    "        \"\"\"\n",
    "        events = self.sample_npred()\n",
    "        events = self.apply_psf(events)\n",
    "        events = self.apply_edisp(events)\n",
    "\n",
    "        events_bkg = self.sample_background()\n",
    "\n",
    "        table = vstack([events, events_bkg])\n",
    "        \n",
    "        return table"
   ]
  },
  {
   "cell_type": "markdown",
   "metadata": {},
   "source": [
    "### IRFMapSampler "
   ]
  },
  {
   "cell_type": "code",
   "execution_count": 15,
   "metadata": {},
   "outputs": [],
   "source": [
    "class IRFMapSampler:\n",
    "    \"\"\"Map event sampler\n",
    "    \n",
    "    Parameters\n",
    "    ----------\n",
    "    \n",
    "    events : astropy table of the only source(s') events\n",
    "    psf_map : `~gammapy.cube.make_psf_map`\n",
    "        Psf map at the position of each event.\n",
    "    edisp_map : `~gammapy.cube.make_edisp_map`\n",
    "        Energy dispersion map at the position of each event.        \n",
    "    \"\"\"\n",
    "    def __init__(self, events, psf_map=None, edisp_map=None,\n",
    "                 random_state=0):\n",
    "        self.random_state = get_random_state(random_state)\n",
    "        self.events = events\n",
    "        self.psf_map = psf_map\n",
    "        self.edisp_map = edisp_map\n",
    "        if self.psf_map is None:\n",
    "            return 'Error, provide the PSF map\\n'\n",
    "\n",
    "    def sample(self):\n",
    "        \"\"\" Apply PSF corrections on the coordinates of the simulated source events \"\"\"       \n",
    "        # apply psf to list of events\n",
    "        sample_pdf = InverseCDFSampler(self.psf_map, axis=1)\n",
    "        pix_coord = sample_pdf.sample_axis()\n",
    "        offset = theta_axis.pix_to_coord(pix_coord)\n",
    "        \n",
    "        phi_angle = self.random_state.uniform(360, size=len(self.events))*u.deg\n",
    "        event_positions = SkyCoord(self.events['lon_true'], self.events['lat_true'], frame='icrs', unit='deg')\n",
    "        event_positions = event_positions.directional_offset_by(phi_angle,offset*u.deg)\n",
    "        \n",
    "        self.events['lon_true'] = event_positions.ra\n",
    "        self.events['lat_true'] = event_positions.dec\n",
    "        self.events['lon_true'].name = 'lon_reco'\n",
    "        self.events['lat_true'].name = 'lat_reco'\n",
    "        \n",
    "        \"\"\" Apply the energy dispersion for the energy of the simulated source events \"\"\"       \n",
    "        if self.edisp_map is not None:\n",
    "            sample_pdf_edisp = InverseCDFSampler(self.edisp_map, axis=1)\n",
    "            pix_coord_edisp = sample_pdf_edisp.sample_axis()\n",
    "            e_corr = migra_axis.pix_to_coord(pix_coord_edisp)\n",
    "\n",
    "            self.events['e_true'] = self.events['e_true'] * e_corr\n",
    "            self.events['e_true'].name = 'e_reco'\n",
    "        \n",
    "        return self.events"
   ]
  },
  {
   "cell_type": "markdown",
   "metadata": {},
   "source": [
    "### Toy source model\n",
    "\n",
    "For testing let's create a toy source model with a Gaussian morphology and a power-law spectrum:"
   ]
  },
  {
   "cell_type": "code",
   "execution_count": 16,
   "metadata": {},
   "outputs": [],
   "source": [
    "#random_state = get_random_state(0)\n",
    "#choice = random_state.uniform(high=1, size=10)\n",
    "#index = np.argmin(choice.reshape(-1, 1))\n",
    "#print(index)\n",
    "#print(random_state.uniform(low=-0.5, high=0.5, size=10))\n",
    "#print(index, random_state.uniform(low=-0.5, high=0.5, size=10))\n",
    "#print(index + random_state.uniform(low=-0.5, high=0.5, size=10))\n",
    "#index = np.argmin(np.abs(choice.reshape(-1, 1) - self.cdf), axis=axis)"
   ]
  },
  {
   "cell_type": "code",
   "execution_count": 17,
   "metadata": {},
   "outputs": [],
   "source": [
    "livetime = 10 * u.hour\n",
    "spatial_model = SkyGaussian(\"0 deg\", \"0 deg\", sigma=\"0.2 deg\")\n",
    "spectral_model = PowerLaw(amplitude=\"1e-11 cm-2 s-1 TeV-1\")\n",
    "skymodel = SkyModel(spatial_model=spatial_model, spectral_model=spectral_model)\n",
    "\n",
    "#Now we create a reference exposure map, we use to evaluate the model:\n",
    "position = SkyCoord(0.0, 0.0, frame='galactic', unit='deg')\n",
    "\n",
    "energy_axis = MapAxis.from_bounds(1, 100, nbin=30, unit=\"TeV\", name=\"energy\", interp=\"log\")\n",
    "\n",
    "exposure = Map.create(\n",
    "    binsz=0.02,\n",
    "    map_type='wcs',\n",
    "    skydir=position,\n",
    "    width=\"5 deg\",\n",
    "    axes=[energy_axis],\n",
    "    coordsys=\"GAL\", unit=\"cm2 s\"\n",
    ")\n",
    "\n",
    "exposure.data = 1e10 * 1000 * np.ones(exposure.data.shape)\n",
    "\n",
    "evaluator = MapEvaluator(model=skymodel, exposure=exposure)\n",
    "\n",
    "npred = evaluator.compute_npred()"
   ]
  },
  {
   "cell_type": "code",
   "execution_count": 18,
   "metadata": {},
   "outputs": [],
   "source": [
    "time = np.linspace(0,livetime.to('s').value,int(livetime.to('s').value))\n",
    "\n",
    "def rate(x):\n",
    "\treturn np.exp(-x/10000)\n",
    "\n",
    "table = Table()\n",
    "\n",
    "table['time'] = time\n",
    "table['normalization'] = rate(time)\n",
    "\n",
    "lcurve = LC(table)\n",
    "\n",
    "times = lcurve.table['time'].data \n",
    "ctss = lcurve.table['normalization'].data  \n",
    "\n",
    "light = np.vstack([times,ctss])"
   ]
  },
  {
   "cell_type": "code",
   "execution_count": 19,
   "metadata": {},
   "outputs": [],
   "source": [
    "sampler = MapEventSampler(npred, random_state=0, lc=lcurve)\n",
    "events_src=sampler.sample_npred()"
   ]
  },
  {
   "cell_type": "code",
   "execution_count": 20,
   "metadata": {},
   "outputs": [
    {
     "data": {
      "text/html": [
       "<i>Table length=100</i>\n",
       "<table id=\"table4412606672\" class=\"table-striped table-bordered table-condensed\">\n",
       "<thead><tr><th>lon_true</th><th>lat_true</th><th>e_true</th><th>time</th></tr></thead>\n",
       "<thead><tr><th>deg</th><th>deg</th><th>TeV</th><th>s</th></tr></thead>\n",
       "<thead><tr><th>float64</th><th>float64</th><th>float64</th><th>float64</th></tr></thead>\n",
       "<tr><td>359.7333370969594</td><td>-0.07244496321415028</td><td>1.5217603637521027</td><td>20856.024970442253</td></tr>\n",
       "<tr><td>359.85837797220023</td><td>0.20359207355119283</td><td>2.1419659842005205</td><td>546.250595022929</td></tr>\n",
       "<tr><td>359.8918551765717</td><td>-0.019506425432173274</td><td>5.622337036174219</td><td>1356.8335074657912</td></tr>\n",
       "<tr><td>359.7953553171566</td><td>-0.1186550073707349</td><td>1.7314521299420373</td><td>7569.424158766621</td></tr>\n",
       "<tr><td>0.15735024730484043</td><td>0.2935878554699713</td><td>1.7356792123034828</td><td>10639.362318546835</td></tr>\n",
       "<tr><td>359.9989314563643</td><td>-0.03092606310887902</td><td>1.7304144260407368</td><td>13714.548690295975</td></tr>\n",
       "<tr><td>0.005488112715788418</td><td>-0.06926841577782568</td><td>1.206531807265262</td><td>4698.753642524257</td></tr>\n",
       "<tr><td>359.7997714508275</td><td>0.17793342586080713</td><td>3.3898717477327427</td><td>28217.94613551266</td></tr>\n",
       "<tr><td>359.8245883850299</td><td>-0.08019322105206583</td><td>1.4559340127482747</td><td>31580.604627888744</td></tr>\n",
       "<tr><td>...</td><td>...</td><td>...</td><td>...</td></tr>\n",
       "<tr><td>359.9948263186622</td><td>-0.0035576453361150584</td><td>30.135578560595683</td><td>1058.1725823112965</td></tr>\n",
       "<tr><td>359.98301923383144</td><td>-0.23620304176194482</td><td>1.5714171647061466</td><td>8604.02893992903</td></tr>\n",
       "<tr><td>359.93933390746906</td><td>-0.24977362034907089</td><td>5.199601411815321</td><td>5720.804446364347</td></tr>\n",
       "<tr><td>0.10082034556273044</td><td>0.06448634057949448</td><td>17.08823681133315</td><td>12325.49796225133</td></tr>\n",
       "<tr><td>0.012892623030561481</td><td>0.08195688968988066</td><td>3.5358538730155957</td><td>7542.862189058939</td></tr>\n",
       "<tr><td>359.65286586219196</td><td>0.11724383034843357</td><td>41.39587804204178</td><td>8720.970648949215</td></tr>\n",
       "<tr><td>0.17967342994632587</td><td>-0.10054161021953746</td><td>1.1763465343878494</td><td>13131.878245174923</td></tr>\n",
       "<tr><td>0.1362953534952763</td><td>0.4392166931612599</td><td>78.63715177583421</td><td>6551.479526929335</td></tr>\n",
       "<tr><td>359.7319748099839</td><td>-0.021868890015576313</td><td>1.2230749144976887</td><td>11108.674658385395</td></tr>\n",
       "<tr><td>0.0014141716539458572</td><td>0.25548094665397286</td><td>6.022214671662589</td><td>9410.827988000909</td></tr>\n",
       "</table>"
      ],
      "text/plain": [
       "<Table length=100>\n",
       "       lon_true              lat_true        ...        time       \n",
       "         deg                   deg           ...         s         \n",
       "       float64               float64         ...      float64      \n",
       "--------------------- ---------------------- ... ------------------\n",
       "    359.7333370969594   -0.07244496321415028 ... 20856.024970442253\n",
       "   359.85837797220023    0.20359207355119283 ...   546.250595022929\n",
       "    359.8918551765717  -0.019506425432173274 ... 1356.8335074657912\n",
       "    359.7953553171566    -0.1186550073707349 ...  7569.424158766621\n",
       "  0.15735024730484043     0.2935878554699713 ... 10639.362318546835\n",
       "    359.9989314563643   -0.03092606310887902 ... 13714.548690295975\n",
       " 0.005488112715788418   -0.06926841577782568 ...  4698.753642524257\n",
       "    359.7997714508275    0.17793342586080713 ...  28217.94613551266\n",
       "    359.8245883850299   -0.08019322105206583 ... 31580.604627888744\n",
       "                  ...                    ... ...                ...\n",
       "    359.9948263186622 -0.0035576453361150584 ... 1058.1725823112965\n",
       "   359.98301923383144   -0.23620304176194482 ...   8604.02893992903\n",
       "   359.93933390746906   -0.24977362034907089 ...  5720.804446364347\n",
       "  0.10082034556273044    0.06448634057949448 ...  12325.49796225133\n",
       " 0.012892623030561481    0.08195688968988066 ...  7542.862189058939\n",
       "   359.65286586219196    0.11724383034843357 ...  8720.970648949215\n",
       "  0.17967342994632587   -0.10054161021953746 ... 13131.878245174923\n",
       "   0.1362953534952763     0.4392166931612599 ...  6551.479526929335\n",
       "    359.7319748099839  -0.021868890015576313 ... 11108.674658385395\n",
       "0.0014141716539458572    0.25548094665397286 ...  9410.827988000909"
      ]
     },
     "execution_count": 20,
     "metadata": {},
     "output_type": "execute_result"
    }
   ],
   "source": [
    "events_src"
   ]
  },
  {
   "cell_type": "markdown",
   "metadata": {},
   "source": [
    "## We apply the PSF and the EDISP map\n"
   ]
  },
  {
   "cell_type": "code",
   "execution_count": 21,
   "metadata": {},
   "outputs": [],
   "source": [
    "## PSF map creation\n",
    "filename = \"$GAMMAPY_DATA/cta-1dc/caldb/data/cta/1dc/bcf/South_z20_50h/irf_file.fits\"\n",
    "psf_gauss = EnergyDependentMultiGaussPSF.read(filename=filename, hdu=\"POINT SPREAD FUNCTION\")\n",
    "psf_3d = psf_gauss.to_psf3d(rad=np.linspace(0, 1, 100) * u.deg)\n",
    "\n",
    "theta_axis = MapAxis.from_bounds(0, 0.5, nbin=100, unit=\"deg\", name=\"theta\")\n",
    "\n",
    "geom_psf = WcsGeom.create(\n",
    "    binsz=0.2,\n",
    "    skydir=position,\n",
    "    width=\"5 deg\",\n",
    "    axes=[theta_axis, energy_axis],\n",
    "    coordsys=\"GAL\"\n",
    ")\n",
    "\n",
    "psf_map = make_psf_map(psf_3d, geom=geom_psf, pointing=geom_psf.center_skydir, max_offset=3 * u.deg)\n",
    "\n",
    "events_src.sort(\"e_true\")\n",
    "coord = {\n",
    "    \"lon\": events_src[\"lon_true\"].reshape(-1, 1),\n",
    "    \"lat\": events_src[\"lat_true\"].reshape(-1, 1),\n",
    "    \"energy\": events_src[\"e_true\"].quantity.reshape(-1, 1),\n",
    "    \"theta\": (theta_axis.center * theta_axis.unit)\n",
    "}\n",
    "\n",
    "pdf = psf_map.psf_map.interp_by_coord(coord)\n",
    "\n",
    "\n",
    "### EDISP map creation\n",
    "edisp2D = EnergyDispersion2D.read(filename=filename, hdu=\"ENERGY DISPERSION\")\n",
    "migra_axis = MapAxis.from_bounds(0, 2, nbin=30, name=\"migra\")\n",
    "\n",
    "geom = WcsGeom.create(\n",
    "    skydir=position, binsz=0.02, width=\"5 deg\", coordsys=\"GAL\", axes=[migra_axis,energy_axis]\n",
    ")\n",
    "\n",
    "edisp_map = make_edisp_map(edisp=edisp2D, geom=geom, pointing=geom.center_skydir, max_offset=3 * u.deg)\n",
    "\n",
    "events_src.sort(\"e_true\")\n",
    "coord_edisp = {\n",
    "    \"lon\": events_src[\"lon_true\"].reshape(-1, 1),\n",
    "    \"lat\": events_src[\"lat_true\"].reshape(-1, 1),\n",
    "    \"energy\": events_src[\"e_true\"].quantity.reshape(-1, 1),\n",
    "    \"migra\" : (migra_axis.center * migra_axis.unit),\n",
    "}\n",
    "\n",
    "pdf_edisp=edisp_map.edisp_map.interp_by_coord(coord_edisp)"
   ]
  },
  {
   "cell_type": "code",
   "execution_count": 22,
   "metadata": {},
   "outputs": [],
   "source": [
    "sampler = IRFMapSampler(events_src, psf_map=pdf, edisp_map=pdf_edisp)\n",
    "#sampler = IRFMapSampler(events_src, psf_map=pdf)\n",
    "events_src_irf=sampler.sample()"
   ]
  },
  {
   "cell_type": "code",
   "execution_count": 23,
   "metadata": {},
   "outputs": [
    {
     "data": {
      "text/html": [
       "<i>Table length=100</i>\n",
       "<table id=\"table4412606672\" class=\"table-striped table-bordered table-condensed\">\n",
       "<thead><tr><th>lon_reco</th><th>lat_reco</th><th>e_reco</th><th>time</th></tr></thead>\n",
       "<thead><tr><th>deg</th><th>deg</th><th>TeV</th><th>s</th></tr></thead>\n",
       "<thead><tr><th>float64</th><th>float64</th><th>float64</th><th>float64</th></tr></thead>\n",
       "<tr><td>0.07823964534958633</td><td>0.03294228583710436</td><td>1.0032358852294052</td><td>13094.94203563773</td></tr>\n",
       "<tr><td>359.95538030905317</td><td>0.07957931416859967</td><td>1.0497384536728844</td><td>4399.674772004161</td></tr>\n",
       "<tr><td>0.1290450332134964</td><td>-0.150294014532731</td><td>1.0305306964899101</td><td>5811.407732957485</td></tr>\n",
       "<tr><td>359.7254234582412</td><td>-0.3365237551944858</td><td>1.0603565780810564</td><td>12219.23988391783</td></tr>\n",
       "<tr><td>359.8231999000277</td><td>0.21599295006257038</td><td>1.01564811099223</td><td>757.1003922370976</td></tr>\n",
       "<tr><td>359.987940760191</td><td>-0.1176627290117236</td><td>1.0526586465233525</td><td>6616.419782810778</td></tr>\n",
       "<tr><td>359.6904321476026</td><td>0.3151455912082397</td><td>1.0616096537873438</td><td>24757.91030156269</td></tr>\n",
       "<tr><td>0.18212294968740264</td><td>0.08613338979481934</td><td>1.2211353917370145</td><td>3360.1719571405956</td></tr>\n",
       "<tr><td>359.9123030545063</td><td>-0.4310445092018361</td><td>1.203752898860843</td><td>12298.118826168242</td></tr>\n",
       "<tr><td>...</td><td>...</td><td>...</td><td>...</td></tr>\n",
       "<tr><td>0.28181193138690896</td><td>-0.005398546868146713</td><td>10.465142395650265</td><td>7618.407875594355</td></tr>\n",
       "<tr><td>0.11897565304648476</td><td>0.05383482555536024</td><td>16.18807833563526</td><td>12325.49796225133</td></tr>\n",
       "<tr><td>0.4237417390661355</td><td>-0.17521943984819716</td><td>15.206379676931443</td><td>6338.709749949656</td></tr>\n",
       "<tr><td>0.19043819220355543</td><td>0.008256461068838556</td><td>19.699825679254907</td><td>103.03053721456278</td></tr>\n",
       "<tr><td>0.15775632833631592</td><td>0.02762358060598315</td><td>29.54620006287315</td><td>13525.468286410294</td></tr>\n",
       "<tr><td>359.9925901341436</td><td>-0.002551054611537352</td><td>21.075736370919177</td><td>1058.1725823112965</td></tr>\n",
       "<tr><td>359.6610701648386</td><td>0.10334797494587686</td><td>39.26375471954299</td><td>8720.970648949215</td></tr>\n",
       "<tr><td>0.10080270339153469</td><td>-0.16638076397323381</td><td>38.43698319138232</td><td>17398.94026375283</td></tr>\n",
       "<tr><td>0.1289734432764272</td><td>0.09212571881983671</td><td>52.795478385386495</td><td>14169.122384428567</td></tr>\n",
       "<tr><td>0.13623145683866544</td><td>0.4413878363100213</td><td>54.70218692508679</td><td>6551.479526929335</td></tr>\n",
       "</table>"
      ],
      "text/plain": [
       "<Table length=100>\n",
       "      lon_reco             lat_reco             e_reco              time       \n",
       "        deg                  deg                 TeV                 s         \n",
       "      float64              float64             float64            float64      \n",
       "------------------- --------------------- ------------------ ------------------\n",
       "0.07823964534958633   0.03294228583710436 1.0032358852294052  13094.94203563773\n",
       " 359.95538030905317   0.07957931416859967 1.0497384536728844  4399.674772004161\n",
       " 0.1290450332134964    -0.150294014532731 1.0305306964899101  5811.407732957485\n",
       "  359.7254234582412   -0.3365237551944858 1.0603565780810564  12219.23988391783\n",
       "  359.8231999000277   0.21599295006257038   1.01564811099223  757.1003922370976\n",
       "   359.987940760191   -0.1176627290117236 1.0526586465233525  6616.419782810778\n",
       "  359.6904321476026    0.3151455912082397 1.0616096537873438  24757.91030156269\n",
       "0.18212294968740264   0.08613338979481934 1.2211353917370145 3360.1719571405956\n",
       "  359.9123030545063   -0.4310445092018361  1.203752898860843 12298.118826168242\n",
       "                ...                   ...                ...                ...\n",
       "0.28181193138690896 -0.005398546868146713 10.465142395650265  7618.407875594355\n",
       "0.11897565304648476   0.05383482555536024  16.18807833563526  12325.49796225133\n",
       " 0.4237417390661355  -0.17521943984819716 15.206379676931443  6338.709749949656\n",
       "0.19043819220355543  0.008256461068838556 19.699825679254907 103.03053721456278\n",
       "0.15775632833631592   0.02762358060598315  29.54620006287315 13525.468286410294\n",
       "  359.9925901341436 -0.002551054611537352 21.075736370919177 1058.1725823112965\n",
       "  359.6610701648386   0.10334797494587686  39.26375471954299  8720.970648949215\n",
       "0.10080270339153469  -0.16638076397323381  38.43698319138232  17398.94026375283\n",
       " 0.1289734432764272   0.09212571881983671 52.795478385386495 14169.122384428567\n",
       "0.13623145683866544    0.4413878363100213  54.70218692508679  6551.479526929335"
      ]
     },
     "execution_count": 23,
     "metadata": {},
     "output_type": "execute_result"
    }
   ],
   "source": [
    "events_src_irf"
   ]
  },
  {
   "cell_type": "markdown",
   "metadata": {},
   "source": [
    "## We simulate the background "
   ]
  },
  {
   "cell_type": "code",
   "execution_count": 24,
   "metadata": {},
   "outputs": [],
   "source": [
    "from gammapy.irf import load_cta_irfs\n",
    "filename = (\n",
    "    \"$GAMMAPY_DATA/cta-1dc/caldb/data/cta/1dc/bcf/South_z20_50h/irf_file.fits\"\n",
    ")\n",
    "irfs = load_cta_irfs(filename)\n",
    "\n",
    "geom = WcsGeom.create(\n",
    "    skydir=position, binsz=0.02, width=\"5 deg\", coordsys=\"GAL\", axes=[energy_axis]\n",
    ")\n",
    "\n",
    "background = make_map_background_irf(\n",
    "    pointing=position, ontime=livetime, bkg=irfs[\"bkg\"], geom=geom\n",
    ")"
   ]
  },
  {
   "cell_type": "code",
   "execution_count": 25,
   "metadata": {},
   "outputs": [],
   "source": [
    "sampler = MapEventSampler(npred, exposure=livetime, background_map=background, random_state=0)\n",
    "events_bkg=sampler.sample_background()"
   ]
  },
  {
   "cell_type": "markdown",
   "metadata": {},
   "source": [
    "# TOTAL EVENT LIST"
   ]
  },
  {
   "cell_type": "code",
   "execution_count": 26,
   "metadata": {},
   "outputs": [],
   "source": [
    "#this is not crucial...\n",
    "events_bkg['lon_true'].name = 'lon_reco'\n",
    "events_bkg['lat_true'].name = 'lat_reco'\n",
    "events_bkg['e_true'].name = 'e_reco'"
   ]
  },
  {
   "cell_type": "code",
   "execution_count": 28,
   "metadata": {},
   "outputs": [],
   "source": [
    "table = vstack([events_src_irf, events_bkg])"
   ]
  },
  {
   "cell_type": "code",
   "execution_count": 29,
   "metadata": {},
   "outputs": [
    {
     "name": "stdout",
     "output_type": "stream",
     "text": [
      "      lon_reco            lat_reco            e_reco              time       \n",
      "        deg                 deg                TeV                 s         \n",
      "------------------- ------------------- ------------------ ------------------\n",
      "0.07823964534958633 0.03294228583710436 1.0032358852294052  13094.94203563773\n",
      " 359.95538030905317 0.07957931416859967 1.0497384536728844  4399.674772004161\n",
      " 0.1290450332134964  -0.150294014532731 1.0305306964899101  5811.407732957485\n",
      "  359.7254234582412 -0.3365237551944858 1.0603565780810564  12219.23988391783\n",
      "  359.8231999000277 0.21599295006257038   1.01564811099223  757.1003922370976\n",
      "   359.987940760191 -0.1176627290117236 1.0526586465233525  6616.419782810778\n",
      "  359.6904321476026  0.3151455912082397 1.0616096537873438  24757.91030156269\n",
      "0.18212294968740264 0.08613338979481934 1.2211353917370145 3360.1719571405956\n",
      "  359.9123030545063 -0.4310445092018361  1.203752898860843 12298.118826168242\n",
      "0.10464877751956898 -0.0383323680512579 1.1142433987322509  253.0436780538281\n",
      "                ...                 ...                ...                ...\n",
      " 359.38061808976323  -2.201498109105884 2.3356573058828536 16929.921877914916\n",
      " 358.15381860993125  -1.772580260338783  1.007846610729335   31094.6072269094\n",
      "  358.6484995929584 -0.5299334932055803 2.5830527915472357  7631.405410197577\n",
      " 0.5878249477129981  -2.030105678511643 1.0270641181208215 34733.283629939004\n",
      " 1.5850213269241307  2.4979991450024057  7.423343253626533 1906.7579208050813\n",
      "0.25373531532145194 -1.3050770888837195 1.0388498733165712  30632.13719217895\n",
      "  358.8711072197819  0.7166136232854768 1.0749313663854354  21045.17027737015\n",
      " 357.65386246430035   1.426254828745428 2.2666649494601123  562.2388761600172\n",
      "  359.4322397055793  0.9353945620234595  3.763927175854355 23598.502476475547\n",
      " 0.2516521739083558  -2.185009166779634 1.9234390038955014 25571.603222889615\n",
      "Length = 28124 rows\n"
     ]
    }
   ],
   "source": [
    "print(table)"
   ]
  },
  {
   "cell_type": "markdown",
   "metadata": {},
   "source": [
    "-----------------------------------------------------\n",
    "# TESTS HEREAFTER \n",
    "-----------------------------------------------------"
   ]
  },
  {
   "cell_type": "code",
   "execution_count": 41,
   "metadata": {},
   "outputs": [],
   "source": [
    "from astropy.table import Table\n",
    "from gammapy.time.models import LightCurveTableModel\n",
    "import numpy as np\n",
    "\n",
    "time = np.linspace(0,100,100)\n",
    "\n",
    "def rate(x):\n",
    "\treturn np.exp(-x/20)\n",
    "\n",
    "table = Table()\n",
    "\n",
    "table['time'] = time\n",
    "table['rate'] = 1.0\n",
    "\n",
    "lc = LightCurveTableModel(table)\n",
    "\n",
    "times = lc.table['time'].data \n",
    "ctss = lc.table['rate'].data  \n",
    "\n",
    "light = np.vstack([times,ctss])"
   ]
  },
  {
   "cell_type": "code",
   "execution_count": 42,
   "metadata": {},
   "outputs": [
    {
     "data": {
      "text/plain": [
       "[<matplotlib.lines.Line2D at 0x117da4d68>]"
      ]
     },
     "execution_count": 42,
     "metadata": {},
     "output_type": "execute_result"
    },
    {
     "data": {
      "image/png": "[encoded data removed]",
      "text/plain": [
       "<Figure size 432x288 with 1 Axes>"
      ]
     },
     "metadata": {
      "needs_background": "light"
     },
     "output_type": "display_data"
    }
   ],
   "source": [
    "plt.plot(times,ctss)"
   ]
  },
  {
   "cell_type": "code",
   "execution_count": 51,
   "metadata": {},
   "outputs": [],
   "source": [
    "a = InverseCDFSampler(pdf=ctss,random_state=0)"
   ]
  },
  {
   "cell_type": "code",
   "execution_count": 57,
   "metadata": {},
   "outputs": [
    {
     "data": {
      "text/plain": [
       "array([[92.43789532, 25.19347501, 74.49137609, 40.91759553, 31.02591745,\n",
       "        84.46427294, 65.12142279, 82.95823327, 86.23069046, 48.1248937 ,\n",
       "        49.46946823, 37.45544935, 11.29699193, 65.75383506,  7.09269952,\n",
       "        45.43849222, 57.50160843, 51.60571433, 31.96805236, 28.1464263 ,\n",
       "        63.62833212, 30.83484869, 98.51301871, 77.2481615 , 40.70180299,\n",
       "        54.33801594, 75.06106008, 62.13733015,  2.67924275, 84.68534099,\n",
       "        58.84077996, 73.42786054, 59.62285218, 88.02336689, 38.74929252,\n",
       "        77.2299649 ,  5.81021086, 28.48539581,  3.01193615, 73.95842522,\n",
       "        65.30709241, 40.92624861, 96.36132028, 10.4804255 , 31.82036525,\n",
       "        20.37438348, 21.2026068 , 84.84471768, 50.48198953,  5.39874438,\n",
       "        10.85241081, 98.43040984, 36.22414092, 82.06126166, 35.77506331,\n",
       "         5.79828978, 23.85296749, 84.42206372,  1.0643908 , 40.33837099,\n",
       "        11.75203305, 62.30325361, 13.50436339, 73.04908165, 82.37656884,\n",
       "        78.75412927,  1.96412306, 81.32626062, 47.52757998, 61.61793449,\n",
       "         4.11611726, 66.99885715, 92.31870768,  6.07923556, 92.55616592,\n",
       "         0.48670221, 78.51144895,  7.96916611, 38.95931352, 35.36034062,\n",
       "        74.22296702, 27.64166827, 85.97127711, 68.6108245 , 93.45576198,\n",
       "        55.9927499 , 96.06999856, 16.72587405, 12.58500644, 57.81178553,\n",
       "        84.38615512, 10.11814871, 19.83952629, 17.08579543, 32.25151025,\n",
       "         1.45026094, 93.45895387, 50.20786695, 63.34612032, 93.89105071]])"
      ]
     },
     "execution_count": 57,
     "metadata": {},
     "output_type": "execute_result"
    }
   ],
   "source": [
    "t_idx=a.sample(100)\n",
    "t_idx"
   ]
  },
  {
   "cell_type": "code",
   "execution_count": 58,
   "metadata": {},
   "outputs": [
    {
     "data": {
      "text/plain": [
       "(array([14.,  9.,  7., 11.,  8.,  8., 11., 10., 12., 10.]),\n",
       " array([ 0.48670221, 10.28933386, 20.09196551, 29.89459716, 39.69722881,\n",
       "        49.49986046, 59.30249211, 69.10512376, 78.90775541, 88.71038706,\n",
       "        98.51301871]),\n",
       " <a list of 10 Patch objects>)"
      ]
     },
     "execution_count": 58,
     "metadata": {},
     "output_type": "execute_result"
    },
    {
     "data": {
      "image/png": "[encoded data removed]",
      "text/plain": [
       "<Figure size 432x288 with 1 Axes>"
      ]
     },
     "metadata": {
      "needs_background": "light"
     },
     "output_type": "display_data"
    }
   ],
   "source": [
    "plt.hist(t_idx.squeeze())"
   ]
  },
  {
   "cell_type": "code",
   "execution_count": 50,
   "metadata": {},
   "outputs": [
    {
     "data": {
      "image/png": "[encoded data removed]",
      "text/plain": [
       "<Figure size 432x288 with 1 Axes>"
      ]
     },
     "metadata": {
      "needs_background": "light"
     },
     "output_type": "display_data"
    }
   ],
   "source": [
    "pdf = np.ones(100)\n",
    "a = InverseCDFSampler(pdf=pdf)\n",
    "data = a.sample(10000)\n",
    "plt.hist(data.squeeze());"
   ]
  },
  {
   "cell_type": "code",
   "execution_count": null,
   "metadata": {},
   "outputs": [],
   "source": []
  },
  {
   "cell_type": "code",
   "execution_count": null,
   "metadata": {},
   "outputs": [],
   "source": [
    "\n",
    "\n",
    "\n",
    "\n",
    "\n",
    "\n",
    "\n",
    "\n",
    "\n",
    "\n",
    "\n",
    "\n"
   ]
  },
  {
   "cell_type": "code",
   "execution_count": 24,
   "metadata": {},
   "outputs": [
    {
     "ename": "AttributeError",
     "evalue": "'LightCurveTableModel' object has no attribute 'shape'",
     "output_type": "error",
     "traceback": [
      "\u001b[0;31m---------------------------------------------------------------------------\u001b[0m",
      "\u001b[0;31mAttributeError\u001b[0m                            Traceback (most recent call last)",
      "\u001b[0;32m<ipython-input-24-6f45cd7d2dcb>\u001b[0m in \u001b[0;36m<module>\u001b[0;34m\u001b[0m\n\u001b[1;32m      1\u001b[0m \u001b[0mrandom_state\u001b[0m \u001b[0;34m=\u001b[0m \u001b[0mget_random_state\u001b[0m\u001b[0;34m(\u001b[0m\u001b[0;36m0\u001b[0m\u001b[0;34m)\u001b[0m\u001b[0;34m\u001b[0m\u001b[0m\n\u001b[0;32m----> 2\u001b[0;31m \u001b[0mpdf_shape\u001b[0m \u001b[0;34m=\u001b[0m \u001b[0mlc\u001b[0m\u001b[0;34m.\u001b[0m\u001b[0mshape\u001b[0m  \u001b[0;31m#gives the shape of the PDF array\u001b[0m\u001b[0;34m\u001b[0m\u001b[0m\n\u001b[0m\u001b[1;32m      3\u001b[0m \u001b[0mpdf\u001b[0m \u001b[0;34m=\u001b[0m \u001b[0mlc\u001b[0m\u001b[0;34m.\u001b[0m\u001b[0mravel\u001b[0m\u001b[0;34m(\u001b[0m\u001b[0;34m)\u001b[0m \u001b[0;34m/\u001b[0m \u001b[0mlc\u001b[0m\u001b[0;34m.\u001b[0m\u001b[0msum\u001b[0m\u001b[0;34m(\u001b[0m\u001b[0;34m)\u001b[0m  \u001b[0;31m#flattens the array along one axis\u001b[0m\u001b[0;34m\u001b[0m\u001b[0m\n\u001b[1;32m      4\u001b[0m \u001b[0msortindex\u001b[0m \u001b[0;34m=\u001b[0m \u001b[0mnp\u001b[0m\u001b[0;34m.\u001b[0m\u001b[0margsort\u001b[0m\u001b[0;34m(\u001b[0m\u001b[0mlc\u001b[0m\u001b[0;34m,\u001b[0m \u001b[0maxis\u001b[0m\u001b[0;34m=\u001b[0m\u001b[0;32mNone\u001b[0m\u001b[0;34m)\u001b[0m \u001b[0;31m#sorting of the elements and giving the indexes\u001b[0m\u001b[0;34m\u001b[0m\u001b[0m\n\u001b[1;32m      5\u001b[0m \u001b[0;34m\u001b[0m\u001b[0m\n",
      "\u001b[0;31mAttributeError\u001b[0m: 'LightCurveTableModel' object has no attribute 'shape'"
     ]
    }
   ],
   "source": [
    "random_state = get_random_state(0) \n",
    "pdf_shape = lc.shape  #gives the shape of the PDF array\n",
    "pdf = lc.ravel() / lc.sum()  #flattens the array along one axis\n",
    "sortindex = np.argsort(lc, axis=None) #sorting of the elements and giving the indexes\n",
    "\n",
    "pdf = pdf[sortindex]  #sort the pdf array\n",
    "cdf = np.cumsum(pdf)  #evaluate the cumulative sum of the PDF array"
   ]
  },
  {
   "cell_type": "code",
   "execution_count": 155,
   "metadata": {},
   "outputs": [],
   "source": [
    "choice = random_state.uniform(high=1, size=100)\n",
    "\n",
    "#find the indices corresponding to this point on the CDF\n",
    "index = np.searchsorted(cdf, choice)\n",
    "index = sortindex[index]\n",
    "\n",
    "# map back to multi-dimensional indexing\n",
    "index = np.unravel_index(index, pdf_shape) \n",
    "index = np.vstack(index)\n",
    "\n",
    "index = index + random_state.uniform(low=-0.5, high=0.5,\n",
    "                              size=index.shape)"
   ]
  },
  {
   "cell_type": "code",
   "execution_count": null,
   "metadata": {},
   "outputs": [],
   "source": []
  },
  {
   "cell_type": "code",
   "execution_count": 162,
   "metadata": {},
   "outputs": [],
   "source": [
    "a = InverseCDFSampler(test,random_state=0)"
   ]
  },
  {
   "cell_type": "code",
   "execution_count": 163,
   "metadata": {},
   "outputs": [],
   "source": [
    "a = a.sample(100)"
   ]
  },
  {
   "cell_type": "code",
   "execution_count": 164,
   "metadata": {},
   "outputs": [
    {
     "data": {
      "text/plain": [
       "array([[-4.88285916e-01, -4.81478206e-01, -4.80806802e-01,\n",
       "        -4.68161070e-01, -4.45662012e-01, -4.41970840e-01,\n",
       "        -4.30833005e-01, -3.99773113e-01, -3.76180017e-01,\n",
       "        -3.64525936e-01, -3.50551695e-01, -3.37507065e-01,\n",
       "        -3.35305844e-01, -3.28370323e-01, -3.13806994e-01,\n",
       "        -3.00003475e-01, -2.90156251e-01, -2.76918367e-01,\n",
       "        -2.76075312e-01, -2.72585372e-01, -2.62107179e-01,\n",
       "        -2.51246856e-01, -2.29992027e-01, -2.09922393e-01,\n",
       "        -2.02563049e-01, -2.01717674e-01, -1.98425183e-01,\n",
       "        -1.88055005e-01, -1.54648319e-01, -1.40021936e-01,\n",
       "        -1.32438130e-01, -1.03494259e-01, -1.01778938e-01,\n",
       "        -9.28167028e-02, -7.61449514e-02, -7.12312991e-02,\n",
       "        -6.85815646e-02, -6.41350747e-02, -5.28746214e-02,\n",
       "        -4.64573173e-02, -9.54119138e-03,  1.32438193e-03,\n",
       "         2.10366062e-02,  3.56328030e-02,  6.91007386e-02,\n",
       "         7.22519058e-02,  7.43252488e-02,  7.61573344e-02,\n",
       "         7.72285886e-02,  8.12728726e-02,  8.99099764e-02,\n",
       "         9.08727612e-02,  9.20419313e-02,  1.06393214e-01,\n",
       "         1.13965956e-01,  1.15559564e-01,  1.18015429e-01,\n",
       "         1.21478401e-01,  1.43990199e-01,  1.52103270e-01,\n",
       "         1.53200820e-01,  1.60173537e-01,  1.77816537e-01,\n",
       "         1.92531590e-01,  1.97428773e-01,  1.99479275e-01,\n",
       "         2.03888584e-01,  2.04414402e-01,  2.14241300e-01,\n",
       "         2.22055599e-01,  2.25254280e-01,  2.29990562e-01,\n",
       "         2.30122030e-01,  2.35194022e-01,  2.39550795e-01,\n",
       "         2.93697703e-01,  3.06193989e-01,  3.07318959e-01,\n",
       "         3.13797820e-01,  3.46408672e-01,  3.48008229e-01,\n",
       "         3.55803342e-01,  3.66382326e-01,  3.68126057e-01,\n",
       "         3.81735362e-01,  3.91923355e-01,  3.96546596e-01,\n",
       "         4.19482614e-01,  4.28081293e-01,  4.34213998e-01,\n",
       "         4.44372390e-01,  4.52749012e-01,  4.56083635e-01,\n",
       "         4.62188545e-01,  4.75521505e-01,  4.98847007e-01,\n",
       "         7.54356482e-01,  9.34416626e-01,  1.06996491e+00,\n",
       "         1.38110320e+00],\n",
       "       [ 6.82001715e+00,  8.36219152e+00,  1.17074701e+01,\n",
       "         1.34493188e+01,  1.86320681e+01,  2.01178767e+01,\n",
       "         2.15206510e+01,  2.62583787e+01,  2.69783703e+01,\n",
       "         2.69856276e+01,  2.70864102e+01,  2.82486636e+01,\n",
       "         2.96002939e+01,  3.06856359e+01,  3.12992026e+01,\n",
       "         3.13742880e+01,  3.26832798e+01,  3.33221177e+01,\n",
       "         3.44295293e+01,  3.51874883e+01,  3.65834224e+01,\n",
       "         3.67408288e+01,  3.97243170e+01,  4.21699165e+01,\n",
       "         4.34037197e+01,  4.40654213e+01,  4.67921475e+01,\n",
       "         4.80844761e+01,  4.87539416e+01,  4.96481409e+01,\n",
       "         5.14413777e+01,  5.20113190e+01,  5.31304479e+01,\n",
       "         5.36448478e+01,  5.47930203e+01,  5.48685846e+01,\n",
       "         5.83638556e+01,  5.89880563e+01,  5.92851529e+01,\n",
       "         6.03966713e+01,  6.32308558e+01,  6.33489436e+01,\n",
       "         6.35246787e+01,  6.46175319e+01,  6.51793928e+01,\n",
       "         6.54404319e+01,  6.60182007e+01,  6.67735420e+01,\n",
       "         6.73765052e+01,  6.74619364e+01,  7.14473706e+01,\n",
       "         7.14818294e+01,  7.17168970e+01,  7.26796037e+01,\n",
       "         7.28117959e+01,  7.35256627e+01,  7.38472335e+01,\n",
       "         7.38556127e+01,  7.41630782e+01,  7.49973914e+01,\n",
       "         7.55978445e+01,  7.68741700e+01,  7.68777518e+01,\n",
       "         7.74608347e+01,  7.74615702e+01,  7.79246855e+01,\n",
       "         7.79635754e+01,  7.85672496e+01,  7.94527917e+01,\n",
       "         7.95164296e+01,  8.00521925e+01,  8.06369003e+01,\n",
       "         8.08960597e+01,  8.12168597e+01,  8.15132369e+01,\n",
       "         8.20867843e+01,  8.30173791e+01,  8.36898479e+01,\n",
       "         8.41963435e+01,  8.47317016e+01,  8.67133120e+01,\n",
       "         8.70883171e+01,  8.82980468e+01,  8.84903389e+01,\n",
       "         8.93726507e+01,  8.97817301e+01,  9.04729195e+01,\n",
       "         9.05639553e+01,  9.08834639e+01,  9.33310485e+01,\n",
       "         9.39536968e+01,  9.57633224e+01,  9.61394725e+01,\n",
       "         9.67155077e+01,  9.67776287e+01,  9.78381590e+01,\n",
       "         9.80365792e+01,  9.81289818e+01,  9.84774951e+01,\n",
       "         9.92653253e+01]])"
      ]
     },
     "execution_count": 164,
     "metadata": {},
     "output_type": "execute_result"
    }
   ],
   "source": [
    "np.sort(a)"
   ]
  },
  {
   "cell_type": "code",
   "execution_count": 64,
   "metadata": {},
   "outputs": [],
   "source": [
    "#sampler = MapEventSampler(npred)\n",
    "#events=sampler.sample_npred()"
   ]
  },
  {
   "cell_type": "code",
   "execution_count": null,
   "metadata": {},
   "outputs": [],
   "source": []
  },
  {
   "cell_type": "code",
   "execution_count": 65,
   "metadata": {},
   "outputs": [
    {
     "data": {
      "text/html": [
       "<i>Table length=100</i>\n",
       "<table id=\"table4683477904\" class=\"table-striped table-bordered table-condensed\">\n",
       "<thead><tr><th>lon_true</th><th>lat_true</th><th>e_true</th></tr></thead>\n",
       "<thead><tr><th>deg</th><th>deg</th><th>TeV</th></tr></thead>\n",
       "<thead><tr><th>float64</th><th>float64</th><th>float64</th></tr></thead>\n",
       "<tr><td>359.7333370969594</td><td>-0.07244496321415028</td><td>1.5217603637521027</td></tr>\n",
       "<tr><td>359.85837797220023</td><td>0.20359207355119283</td><td>2.1419659842005205</td></tr>\n",
       "<tr><td>359.8918551765717</td><td>-0.019506425432173274</td><td>5.622337036174219</td></tr>\n",
       "<tr><td>359.7953553171566</td><td>-0.1186550073707349</td><td>1.7314521299420373</td></tr>\n",
       "<tr><td>0.15735024730484043</td><td>0.2935878554699713</td><td>1.7356792123034828</td></tr>\n",
       "<tr><td>359.9989314563643</td><td>-0.03092606310887902</td><td>1.7304144260407368</td></tr>\n",
       "<tr><td>0.005488112715788418</td><td>-0.06926841577782568</td><td>1.206531807265262</td></tr>\n",
       "<tr><td>359.7997714508275</td><td>0.17793342586080713</td><td>3.3898717477327427</td></tr>\n",
       "<tr><td>359.8245883850299</td><td>-0.08019322105206583</td><td>1.4559340127482747</td></tr>\n",
       "<tr><td>...</td><td>...</td><td>...</td></tr>\n",
       "<tr><td>359.9948263186622</td><td>-0.0035576453361150584</td><td>30.135578560595683</td></tr>\n",
       "<tr><td>359.98301923383144</td><td>-0.23620304176194482</td><td>1.5714171647061466</td></tr>\n",
       "<tr><td>359.93933390746906</td><td>-0.24977362034907089</td><td>5.199601411815321</td></tr>\n",
       "<tr><td>0.10082034556273044</td><td>0.06448634057949448</td><td>17.08823681133315</td></tr>\n",
       "<tr><td>0.012892623030561481</td><td>0.08195688968988066</td><td>3.5358538730155957</td></tr>\n",
       "<tr><td>359.65286586219196</td><td>0.11724383034843357</td><td>41.39587804204178</td></tr>\n",
       "<tr><td>0.17967342994632587</td><td>-0.10054161021953746</td><td>1.1763465343878494</td></tr>\n",
       "<tr><td>0.1362953534952763</td><td>0.4392166931612599</td><td>78.63715177583421</td></tr>\n",
       "<tr><td>359.7319748099839</td><td>-0.021868890015576313</td><td>1.2230749144976887</td></tr>\n",
       "<tr><td>0.0014141716539458572</td><td>0.25548094665397286</td><td>6.022214671662589</td></tr>\n",
       "</table>"
      ],
      "text/plain": [
       "<Table length=100>\n",
       "       lon_true              lat_true              e_true      \n",
       "         deg                   deg                  TeV        \n",
       "       float64               float64              float64      \n",
       "--------------------- ---------------------- ------------------\n",
       "    359.7333370969594   -0.07244496321415028 1.5217603637521027\n",
       "   359.85837797220023    0.20359207355119283 2.1419659842005205\n",
       "    359.8918551765717  -0.019506425432173274  5.622337036174219\n",
       "    359.7953553171566    -0.1186550073707349 1.7314521299420373\n",
       "  0.15735024730484043     0.2935878554699713 1.7356792123034828\n",
       "    359.9989314563643   -0.03092606310887902 1.7304144260407368\n",
       " 0.005488112715788418   -0.06926841577782568  1.206531807265262\n",
       "    359.7997714508275    0.17793342586080713 3.3898717477327427\n",
       "    359.8245883850299   -0.08019322105206583 1.4559340127482747\n",
       "                  ...                    ...                ...\n",
       "    359.9948263186622 -0.0035576453361150584 30.135578560595683\n",
       "   359.98301923383144   -0.23620304176194482 1.5714171647061466\n",
       "   359.93933390746906   -0.24977362034907089  5.199601411815321\n",
       "  0.10082034556273044    0.06448634057949448  17.08823681133315\n",
       " 0.012892623030561481    0.08195688968988066 3.5358538730155957\n",
       "   359.65286586219196    0.11724383034843357  41.39587804204178\n",
       "  0.17967342994632587   -0.10054161021953746 1.1763465343878494\n",
       "   0.1362953534952763     0.4392166931612599  78.63715177583421\n",
       "    359.7319748099839  -0.021868890015576313 1.2230749144976887\n",
       "0.0014141716539458572    0.25548094665397286  6.022214671662589"
      ]
     },
     "execution_count": 65,
     "metadata": {},
     "output_type": "execute_result"
    }
   ],
   "source": [
    "#events"
   ]
  },
  {
   "cell_type": "markdown",
   "metadata": {},
   "source": [
    "### Sampling from the PSF\n",
    "\n",
    "For the testing of the PSF sampling we read in an example PSF from the CTA first data challenge:"
   ]
  },
  {
   "cell_type": "code",
   "execution_count": 66,
   "metadata": {},
   "outputs": [],
   "source": [
    "filename = \"$GAMMAPY_DATA/cta-1dc/caldb/data/cta/1dc/bcf/South_z20_50h/irf_file.fits\"\n",
    "#filename = \"/Users/fabio/LAVORO/CTA/DC/caldb/data/cta/1dc/bcf/South_z20_50h/irf_file.fits\"\n",
    "psf_gauss = EnergyDependentMultiGaussPSF.read(filename=filename, hdu=\"POINT SPREAD FUNCTION\")\n",
    "psf_3d = psf_gauss.to_psf3d(rad=np.linspace(0, 1, 100) * u.deg)"
   ]
  },
  {
   "cell_type": "markdown",
   "metadata": {},
   "source": [
    "From this we create a PSF map:"
   ]
  },
  {
   "cell_type": "code",
   "execution_count": 67,
   "metadata": {},
   "outputs": [],
   "source": [
    "theta_axis = MapAxis.from_bounds(0, 0.5, nbin=100, unit=\"deg\", name=\"theta\")\n",
    "\n",
    "geom_psf = WcsGeom.create(\n",
    "    binsz=0.2,\n",
    "    skydir=position,\n",
    "    width=\"5 deg\",\n",
    "    axes=[theta_axis, energy_axis],\n",
    "    coordsys=\"GAL\"\n",
    ")"
   ]
  },
  {
   "cell_type": "code",
   "execution_count": 68,
   "metadata": {},
   "outputs": [],
   "source": [
    "psf_map = make_psf_map(psf_3d, geom=geom_psf, pointing=geom_psf.center_skydir, max_offset=3 * u.deg)"
   ]
  },
  {
   "cell_type": "markdown",
   "metadata": {},
   "source": [
    "Now we look up the shape of the PSF at every true event position (in space and energy):"
   ]
  },
  {
   "cell_type": "code",
   "execution_count": 69,
   "metadata": {},
   "outputs": [],
   "source": [
    "events.sort(\"e_true\")\n",
    "coord = {\n",
    "    \"lon\": events[\"lon_true\"].reshape(-1, 1),\n",
    "    \"lat\": events[\"lat_true\"].reshape(-1, 1),\n",
    "    \"energy\": events[\"e_true\"].quantity.reshape(-1, 1),\n",
    "    \"theta\": (theta_axis.center * theta_axis.unit)\n",
    "}\n",
    "\n",
    "pdf = psf_map.psf_map.interp_by_coord(coord)"
   ]
  },
  {
   "cell_type": "code",
   "execution_count": null,
   "metadata": {},
   "outputs": [],
   "source": []
  },
  {
   "cell_type": "code",
   "execution_count": 70,
   "metadata": {},
   "outputs": [],
   "source": [
    "# plt.figure(figsize=(12, 4))\n",
    "# plt.imshow(np.sqrt(pdf))\n",
    "# plt.xlabel(\"Theta (pixels)\")\n",
    "# plt.ylabel(\"Event #\")"
   ]
  },
  {
   "cell_type": "markdown",
   "metadata": {},
   "source": [
    "Now we sample form the 2D PDF along the theta axis:"
   ]
  },
  {
   "cell_type": "code",
   "execution_count": 71,
   "metadata": {},
   "outputs": [],
   "source": [
    "sample_pdf = InverseCDFSampler(pdf, axis=1)\n",
    "pix_coord = sample_pdf.sample_axis()\n",
    "\n",
    "offset = theta_axis.pix_to_coord(pix_coord)"
   ]
  },
  {
   "cell_type": "code",
   "execution_count": 72,
   "metadata": {},
   "outputs": [],
   "source": [
    "random_state = get_random_state(0)\n",
    "phi_angle = random_state.uniform(360,size=len(events))*u.deg\n",
    "len(phi_angle), len(events)\n",
    "event_position = SkyCoord(events['lon_true'], events['lat_true'], frame='icrs', unit='deg')\n",
    "event_position = event_position.directional_offset_by(phi_angle,offset*u.deg)"
   ]
  },
  {
   "cell_type": "code",
   "execution_count": 24,
   "metadata": {},
   "outputs": [],
   "source": [
    "#print(event_position.ra * u.deg,event_position.dec * u.deg)"
   ]
  },
  {
   "cell_type": "code",
   "execution_count": 25,
   "metadata": {},
   "outputs": [],
   "source": [
    "# we apply the psf to the simulated events\n",
    "#\n",
    "#events=sampler.apply_edisp(events)"
   ]
  },
  {
   "cell_type": "code",
   "execution_count": null,
   "metadata": {},
   "outputs": [],
   "source": []
  },
  {
   "cell_type": "markdown",
   "metadata": {},
   "source": [
    "A an additional check we sample from a point source at fixed energy:"
   ]
  },
  {
   "cell_type": "code",
   "execution_count": null,
   "metadata": {},
   "outputs": [],
   "source": []
  },
  {
   "cell_type": "raw",
   "metadata": {},
   "source": []
  },
  {
   "cell_type": "code",
   "execution_count": 26,
   "metadata": {},
   "outputs": [],
   "source": [
    "N = 100000\n",
    "energy = np.ones(N) * u.TeV\n",
    "theta = (theta_axis.center * theta_axis.unit)\n",
    "\n",
    "coord = {\n",
    "    \"lon\": np.zeros(N).reshape(-1, 1),\n",
    "    \"lat\": np.zeros(N).reshape(-1, 1),\n",
    "    \"energy\": energy.reshape(-1, 1),\n",
    "    \"theta\": theta\n",
    "    \n",
    "}\n",
    "\n",
    "pdf = psf_map.psf_map.interp_by_coord(coord)"
   ]
  },
  {
   "cell_type": "code",
   "execution_count": 27,
   "metadata": {},
   "outputs": [],
   "source": [
    "sample_pdf = InverseCDFSampler(pdf, axis=1)\n",
    "pix_coord = sample_pdf.sample_axis()\n",
    "coords = theta_axis.pix_to_coord(pix_coord)"
   ]
  },
  {
   "cell_type": "code",
   "execution_count": 28,
   "metadata": {},
   "outputs": [
    {
     "data": {
      "text/plain": [
       "array([0.02267629, 0.03452022, 0.02751198, ..., 0.04107312, 0.02147888,\n",
       "       0.00921252])"
      ]
     },
     "execution_count": 28,
     "metadata": {},
     "output_type": "execute_result"
    }
   ],
   "source": [
    "coords"
   ]
  },
  {
   "cell_type": "markdown",
   "metadata": {},
   "source": [
    "This what the CDF looks like:"
   ]
  },
  {
   "cell_type": "code",
   "execution_count": 29,
   "metadata": {},
   "outputs": [
    {
     "data": {
      "text/plain": [
       "[<matplotlib.lines.Line2D at 0x115f129e8>]"
      ]
     },
     "execution_count": 29,
     "metadata": {},
     "output_type": "execute_result"
    },
    {
     "data": {
      "image/png": "[encoded data removed]",
      "text/plain": [
       "<Figure size 432x288 with 1 Axes>"
      ]
     },
     "metadata": {
      "needs_background": "light"
     },
     "output_type": "display_data"
    }
   ],
   "source": [
    "plt.plot(sample_pdf.cdf[0])"
   ]
  },
  {
   "cell_type": "markdown",
   "metadata": {},
   "source": [
    "Let's check the histogram against the analytical PDF:"
   ]
  },
  {
   "cell_type": "code",
   "execution_count": 30,
   "metadata": {},
   "outputs": [
    {
     "data": {
      "text/plain": [
       "(0, 0.2)"
      ]
     },
     "execution_count": 30,
     "metadata": {},
     "output_type": "execute_result"
    },
    {
     "data": {
      "image/png": "[encoded data removed]",
      "text/plain": [
       "<Figure size 432x288 with 1 Axes>"
      ]
     },
     "metadata": {
      "needs_background": "light"
     },
     "output_type": "display_data"
    }
   ],
   "source": [
    "psf_value = psf_3d.evaluate(energy=1 * u.TeV, offset=0 * u.deg, rad=theta)\n",
    "psf_value = psf_value / psf_value.sum()\n",
    "\n",
    "psf_hist, vals = np.histogram(coords, theta_axis.edges)\n",
    "plt.step(theta, psf_hist / psf_hist.sum());\n",
    "plt.plot(theta, psf_value.squeeze())\n",
    "plt.semilogy()\n",
    "plt.ylim(1e-6, 1)\n",
    "plt.xlim(0, 0.2)"
   ]
  },
  {
   "cell_type": "markdown",
   "metadata": {},
   "source": [
    "### Sampling from the Edisp\n",
    "\n",
    "For the testing of the Edisp sampling we read in an example Edisp from the CTA first data challenge:"
   ]
  },
  {
   "cell_type": "code",
   "execution_count": 31,
   "metadata": {},
   "outputs": [
    {
     "name": "stdout",
     "output_type": "stream",
     "text": [
      "EnergyDispersion2D\n",
      "NDDataArray summary info\n",
      "e_true         : size =   500, min =  0.005 TeV, max = 495.450 TeV\n",
      "migra          : size =   300, min =  0.005, max =  2.995\n",
      "offset         : size =     6, min =  0.500 deg, max =  5.500 deg\n",
      "Data           : size = 900000, min =  0.000, max = 10595.855\n",
      "\n"
     ]
    }
   ],
   "source": [
    "edisp2D = EnergyDispersion2D.read(filename=filename, hdu=\"ENERGY DISPERSION\")\n",
    "print(edisp2D)\n",
    "migra_axis = MapAxis.from_bounds(0, 3, nbin=30, name=\"migra\")\n",
    "\n",
    "geom = WcsGeom.create(\n",
    "    skydir=(0, 0), binsz=0.02, width=(5, 5), coordsys=\"GAL\", axes=[migra_axis,energy_axis]\n",
    ")"
   ]
  },
  {
   "cell_type": "code",
   "execution_count": 32,
   "metadata": {},
   "outputs": [
    {
     "data": {
      "text/plain": [
       "<matplotlib.axes._subplots.AxesSubplot at 0x115daf208>"
      ]
     },
     "execution_count": 32,
     "metadata": {},
     "output_type": "execute_result"
    },
    {
     "data": {
      "image/png": "[encoded data removed]",
      "text/plain": [
       "<Figure size 432x288 with 1 Axes>"
      ]
     },
     "metadata": {
      "needs_background": "light"
     },
     "output_type": "display_data"
    }
   ],
   "source": [
    "edisp2D.plot_migration()"
   ]
  },
  {
   "cell_type": "code",
   "execution_count": 33,
   "metadata": {},
   "outputs": [],
   "source": [
    "edisp_map = make_edisp_map(edisp=edisp2D, geom=geom, pointing=geom.center_skydir, max_offset=3 * u.deg)"
   ]
  },
  {
   "cell_type": "code",
   "execution_count": 34,
   "metadata": {},
   "outputs": [
    {
     "name": "stdout",
     "output_type": "stream",
     "text": [
      "MapAxis\n",
      "\n",
      "\tname       : theta     \n",
      "\tunit       : 'deg'     \n",
      "\tnbins      : 100       \n",
      "\tnode type  : edges     \n",
      "\tedges min  : 0.0e+00 deg\n",
      "\tedges max  : 5.0e-01 deg\n",
      "\tinterp     : lin       \n",
      "\n"
     ]
    }
   ],
   "source": [
    "events.sort(\"e_true\")\n",
    "coord_edisp = {\n",
    "    \"lon\": events[\"lon_true\"].reshape(-1, 1),\n",
    "    \"lat\": events[\"lat_true\"].reshape(-1, 1),\n",
    "    \"energy\": events[\"e_true\"].quantity.reshape(-1, 1),\n",
    "    \"migra\" : (migra_axis.center * migra_axis.unit),\n",
    "#    \"offset\": (theta_axis.center * theta_axis.unit)\n",
    "}\n",
    "\n",
    "#a=edisp_map.edisp_map\n",
    "#print(theta_axis)"
   ]
  },
  {
   "cell_type": "code",
   "execution_count": 35,
   "metadata": {},
   "outputs": [
    {
     "data": {
      "text/plain": [
       "WcsGeom\n",
       "\n",
       "\taxes       : lon, lat, migra, energy\n",
       "\tshape      : (250, 250, 30, 30)\n",
       "\tndim       : 4\n",
       "\tcoordsys   : GAL\n",
       "\tprojection : CAR\n",
       "\tcenter     : 0.0 deg, 0.0 deg\n",
       "\twidth      : 5.0 deg x 5.0 deg deg"
      ]
     },
     "execution_count": 35,
     "metadata": {},
     "output_type": "execute_result"
    }
   ],
   "source": [
    "#a.geom"
   ]
  },
  {
   "cell_type": "code",
   "execution_count": 36,
   "metadata": {},
   "outputs": [],
   "source": [
    "pdf_edisp=edisp_map.edisp_map.interp_by_coord(coord_edisp)"
   ]
  },
  {
   "cell_type": "code",
   "execution_count": 37,
   "metadata": {},
   "outputs": [
    {
     "data": {
      "text/html": [
       "&lt;Column name=&apos;e_true&apos; dtype=&apos;float64&apos; unit=&apos;TeV&apos; length=100&gt;\n",
       "<table>\n",
       "<tr><td>0.9922251871768986</td></tr>\n",
       "<tr><td>1.0590193182525132</td></tr>\n",
       "<tr><td>1.0212708696967578</td></tr>\n",
       "<tr><td>1.059016746518627</td></tr>\n",
       "<tr><td>0.9888737524575745</td></tr>\n",
       "<tr><td>1.0373541449165717</td></tr>\n",
       "<tr><td>1.046769639410257</td></tr>\n",
       "<tr><td>1.1685331944546216</td></tr>\n",
       "<tr><td>1.2491292365435793</td></tr>\n",
       "<tr><td>1.1124828829247488</td></tr>\n",
       "<tr><td>1.1686154098055168</td></tr>\n",
       "<tr><td>1.1582788718027877</td></tr>\n",
       "<tr><td>...</td></tr>\n",
       "<tr><td>9.554145116775405</td></tr>\n",
       "<tr><td>10.873366662200517</td></tr>\n",
       "<tr><td>9.839580069412252</td></tr>\n",
       "<tr><td>15.737999097786318</td></tr>\n",
       "<tr><td>14.160534306665838</td></tr>\n",
       "<tr><td>18.429926037290365</td></tr>\n",
       "<tr><td>26.278329628970038</td></tr>\n",
       "<tr><td>22.572930988200063</td></tr>\n",
       "<tr><td>38.197693058293595</td></tr>\n",
       "<tr><td>27.205990191982313</td></tr>\n",
       "<tr><td>52.89720741137596</td></tr>\n",
       "<tr><td>50.5984196772965</td></tr>\n",
       "</table>"
      ],
      "text/plain": [
       "<Column name='e_true' dtype='float64' unit='TeV' length=100>\n",
       "0.9922251871768986\n",
       "1.0590193182525132\n",
       "1.0212708696967578\n",
       " 1.059016746518627\n",
       "0.9888737524575745\n",
       "1.0373541449165717\n",
       " 1.046769639410257\n",
       "1.1685331944546216\n",
       "1.2491292365435793\n",
       "1.1124828829247488\n",
       "1.1686154098055168\n",
       "1.1582788718027877\n",
       "               ...\n",
       " 9.554145116775405\n",
       "10.873366662200517\n",
       " 9.839580069412252\n",
       "15.737999097786318\n",
       "14.160534306665838\n",
       "18.429926037290365\n",
       "26.278329628970038\n",
       "22.572930988200063\n",
       "38.197693058293595\n",
       "27.205990191982313\n",
       " 52.89720741137596\n",
       "  50.5984196772965"
      ]
     },
     "execution_count": 37,
     "metadata": {},
     "output_type": "execute_result"
    }
   ],
   "source": [
    "sample_pdf_edisp = InverseCDFSampler(pdf_edisp, axis=1)\n",
    "pix_coord_edisp = sample_pdf_edisp.sample_axis()\n",
    "coords_edisp = migra_axis.pix_to_coord(pix_coord_edisp)\n",
    "events['e_true'] * coords_edisp"
   ]
  },
  {
   "cell_type": "code",
   "execution_count": null,
   "metadata": {},
   "outputs": [],
   "source": []
  },
  {
   "cell_type": "code",
   "execution_count": 38,
   "metadata": {},
   "outputs": [],
   "source": [
    "#energy = EnergyBounds.equal_log_spacing(0.1,100,100, 'TeV')\n",
    "#edisp = edisp2D.to_energy_dispersion(offset='0.0 deg', e_reco=energy, e_true=energy)\n",
    "# use make_edisp_map, migration --> true energies"
   ]
  },
  {
   "cell_type": "code",
   "execution_count": 39,
   "metadata": {},
   "outputs": [],
   "source": [
    "#np.shape(edisp.data.data)"
   ]
  },
  {
   "cell_type": "markdown",
   "metadata": {},
   "source": [
    "### Sampling the BKG\n",
    "\n",
    "For the testing of the background, we read in an example background from the CTA first data challenge:"
   ]
  },
  {
   "cell_type": "code",
   "execution_count": 40,
   "metadata": {},
   "outputs": [],
   "source": [
    "#bkg = Background3D.read(filename=filename)\n",
    "#print(bkg)"
   ]
  },
  {
   "cell_type": "code",
   "execution_count": 41,
   "metadata": {},
   "outputs": [
    {
     "name": "stdout",
     "output_type": "stream",
     "text": [
      "Background3D\n",
      "NDDataArray summary info\n",
      "energy         : size =    21, min =  0.016 TeV, max = 158.489 TeV\n",
      "fov_lon        : size =    36, min = -5.833 deg, max =  5.833 deg\n",
      "fov_lat        : size =    36, min = -5.833 deg, max =  5.833 deg\n",
      "Data           : size = 27216, min =  0.000 1 / (MeV s sr), max =  0.421 1 / (MeV s sr)\n",
      "\n"
     ]
    }
   ],
   "source": [
    "from gammapy.irf import load_cta_irfs\n",
    "filename = (\n",
    "    \"$GAMMAPY_DATA/cta-1dc/caldb/data/cta/1dc/bcf/South_z20_50h/irf_file.fits\"\n",
    ")\n",
    "irfs = load_cta_irfs(filename)\n",
    "print(irfs['bkg'])"
   ]
  },
  {
   "cell_type": "code",
   "execution_count": 42,
   "metadata": {},
   "outputs": [],
   "source": [
    "#axis = MapAxis.from_edges(\n",
    "#    np.logspace(-1.0, 1.0, 30), unit=\"TeV\", name=\"energy\", interp=\"log\"\n",
    "#)\n",
    "\n",
    "#energy_axis = MapAxis.from_bounds(1, 100, nbin=30, unit=\"TeV\", name=\"energy\", interp=\"log\")\n",
    "\n",
    "livetime = 10 * u.hour\n",
    "\n",
    "geom = WcsGeom.create(\n",
    "    skydir=(0, 0), binsz=0.02, width=(5, 5), coordsys=\"GAL\", axes=[energy_axis]\n",
    ")\n",
    "\n",
    "background = make_map_background_irf(\n",
    "    pointing=position, ontime=livetime, bkg=irfs[\"bkg\"], geom=geom\n",
    ")\n",
    "#make_map_background_irf(pointing=position, ontime=10000, bkg=bkg, geom=geom)"
   ]
  },
  {
   "cell_type": "code",
   "execution_count": 43,
   "metadata": {},
   "outputs": [
    {
     "data": {
      "image/png": "[encoded data removed]",
      "text/plain": [
       "<Figure size 432x288 with 1 Axes>"
      ]
     },
     "metadata": {
      "needs_background": "light"
     },
     "output_type": "display_data"
    }
   ],
   "source": [
    "print(background.data)\n",
    "background.plot_interactive()\n",
    "#npred = evaluator.compute_npred()"
   ]
  },
  {
   "cell_type": "code",
   "execution_count": 44,
   "metadata": {},
   "outputs": [
    {
     "name": "stdout",
     "output_type": "stream",
     "text": [
      "      lon_true            lat_true            e_true      \n",
      "        deg                 deg                TeV        \n",
      "------------------- ------------------- ------------------\n",
      " 1.4712482274569896 -2.0714340758448695 1.4765230624131571\n",
      " 0.6075826085921691 -0.1970144690962937  1.958995752606797\n",
      " 1.3604674002218462  0.9030082585577861   2.17224389630829\n",
      " 1.8089506770434782   1.095693705280226  1.509324907230878\n",
      " 0.8519277516944149 -0.9029079039750186  2.235420671302714\n",
      "  359.9249022999986  0.5171981274115354  1.297699776864798\n",
      " 0.5070579843982214  1.1602246944960013  1.123918360061966\n",
      "  359.0898581980895  -2.391201140941377 2.3489223131165886\n",
      "  359.1737190078381 -1.6264591704502187 1.3042870153048516\n",
      " 0.5841940177658919 -0.7462074030814401 2.1341575028269855\n",
      "                ...                 ...                ...\n",
      " 359.38061808976323  -2.201498109105884 2.3356573058828536\n",
      " 358.15381860993125   1.767419739661217  1.007846610729335\n",
      "  358.6484995929584  0.5300665067944198 2.5830527915472357\n",
      " 0.5878249477129981  -2.030105678511643 1.0270641181208215\n",
      " 1.5850213269241307 -2.4820008549975943  7.423343253626533\n",
      "0.25373531532145194 -1.3050770888837195 1.0388498733165712\n",
      "  358.8711072197819  0.7166136232854768 1.0749313663854354\n",
      " 357.65386246430035   1.426254828745428 2.2666649494601123\n",
      "  359.4322397055793  0.9353945620234595  3.763927175854355\n",
      " 0.2516521739083558   2.194990833220366 1.9234390038955014\n",
      "Length = 28024 rows\n"
     ]
    }
   ],
   "source": [
    "sampler_bkg = MapEventSampler(background)\n",
    "events_bkg=sampler_bkg.sample_npred()\n",
    "print(events_bkg)"
   ]
  },
  {
   "cell_type": "code",
   "execution_count": 45,
   "metadata": {},
   "outputs": [],
   "source": [
    "#from gammapy.irf import load_cta_irfs\n",
    "#filename = (\n",
    "#    \"$GAMMAPY_DATA/cta-1dc/caldb/data/cta/1dc/bcf/South_z20_50h/irf_file.fits\"\n",
    "#)\n",
    "#irfs = load_cta_irfs(filename)\n",
    "#axis = MapAxis.from_edges(\n",
    "#    np.logspace(-1.0, 1.0, 10), unit=\"TeV\", name=\"energy\", interp=\"log\"\n",
    "#)\n",
    "#geom = WcsGeom.create(\n",
    "#    skydir=(0, 0), binsz=0.02, width=(5, 4), coordsys=\"GAL\", axes=[axis]\n",
    "#)\n",
    "#pointing = SkyCoord(1, 0.5, unit=\"deg\", frame=\"galactic\")\n",
    "#livetime = 1 * u.hour\n",
    "#offset_max = 2 * u.deg\n",
    "#offset = Angle(\"2 deg\")\n",
    "#background = make_map_background_irf(\n",
    "#    pointing=pointing, ontime=livetime, bkg=irfs[\"bkg\"], geom=geom\n",
    "#)"
   ]
  },
  {
   "cell_type": "code",
   "execution_count": 46,
   "metadata": {},
   "outputs": [],
   "source": [
    "#print(irfs['bkg'])"
   ]
  },
  {
   "cell_type": "code",
   "execution_count": 47,
   "metadata": {},
   "outputs": [],
   "source": [
    "#bkg = Background3D.read(filename=filename)\n",
    "#livetime = 10 * u.hour"
   ]
  },
  {
   "cell_type": "code",
   "execution_count": 48,
   "metadata": {},
   "outputs": [],
   "source": [
    "#print(position)"
   ]
  },
  {
   "cell_type": "code",
   "execution_count": 49,
   "metadata": {},
   "outputs": [],
   "source": [
    "#bkg.data"
   ]
  },
  {
   "cell_type": "code",
   "execution_count": 50,
   "metadata": {},
   "outputs": [],
   "source": [
    "#make_map_background_irf(pointing=position, ontime=livetime, bkg=irfs['bkg'], geom=geom)"
   ]
  },
  {
   "cell_type": "code",
   "execution_count": 51,
   "metadata": {},
   "outputs": [],
   "source": [
    "#print(bkg.)"
   ]
  },
  {
   "cell_type": "code",
   "execution_count": 52,
   "metadata": {},
   "outputs": [],
   "source": [
    "#make_map_background_irf(pointing=position, ontime=10000, bkg=bkg, geom=exposure)\n",
    "#make_map_background_irf(pointing=pointing_info, ontime=10000, bkg=bkg, geom=wcs_geom)"
   ]
  },
  {
   "cell_type": "code",
   "execution_count": null,
   "metadata": {},
   "outputs": [],
   "source": []
  },
  {
   "cell_type": "code",
   "execution_count": null,
   "metadata": {},
   "outputs": [],
   "source": []
  },
  {
   "cell_type": "code",
   "execution_count": 73,
   "metadata": {},
   "outputs": [],
   "source": [
    "sampler = MapEventSampler(npred, psf_map=pdf, edisp_map=pdf_edisp, background_map=background)\n",
    "events=sampler.sample_npred()\n",
    "events=sampler.apply_psf(events)\n",
    "events=sampler.apply_edisp(events)\n",
    "events_bkg=sampler.sample_background()"
   ]
  },
  {
   "cell_type": "code",
   "execution_count": 55,
   "metadata": {},
   "outputs": [
    {
     "data": {
      "text/plain": [
       "(100, 28024)"
      ]
     },
     "execution_count": 55,
     "metadata": {},
     "output_type": "execute_result"
    }
   ],
   "source": [
    "len(events),len(events_bkg)"
   ]
  },
  {
   "cell_type": "code",
   "execution_count": null,
   "metadata": {},
   "outputs": [],
   "source": []
  },
  {
   "cell_type": "code",
   "execution_count": 74,
   "metadata": {},
   "outputs": [],
   "source": [
    "sampler = MapEventSampler(npred, psf_map=pdf, edisp_map=pdf_edisp, background_map=background)\n",
    "events_src_bkg = sampler.sample_events()"
   ]
  },
  {
   "cell_type": "code",
   "execution_count": 75,
   "metadata": {},
   "outputs": [
    {
     "data": {
      "text/html": [
       "<i>Table length=28113</i>\n",
       "<table id=\"table4662604688\" class=\"table-striped table-bordered table-condensed\">\n",
       "<thead><tr><th>lon_true</th><th>lat_true</th><th>e_true</th></tr></thead>\n",
       "<thead><tr><th>deg</th><th>deg</th><th>TeV</th></tr></thead>\n",
       "<thead><tr><th>float64</th><th>float64</th><th>float64</th></tr></thead>\n",
       "<tr><td>359.71966813176186</td><td>-0.05346579551616161</td><td>1.4727317613361146</td></tr>\n",
       "<tr><td>359.86942713264835</td><td>0.2329304925142466</td><td>2.199800773604575</td></tr>\n",
       "<tr><td>359.9131164829808</td><td>-0.0002640729443205302</td><td>5.4734541904921725</td></tr>\n",
       "<tr><td>359.788119624894</td><td>-0.14238743052670885</td><td>1.7249052575327755</td></tr>\n",
       "<tr><td>0.14291370734333436</td><td>0.286141274167102</td><td>1.605286857093408</td></tr>\n",
       "<tr><td>359.9712268634217</td><td>-0.027796526866250303</td><td>1.6570720797512435</td></tr>\n",
       "<tr><td>0.017174459545542222</td><td>-0.08290654872063291</td><td>1.1573103686701585</td></tr>\n",
       "<tr><td>359.7888948253761</td><td>0.22966362286935327</td><td>3.5838578045354126</td></tr>\n",
       "<tr><td>359.8181336933582</td><td>-0.014393645179764419</td><td>1.6340066276811915</td></tr>\n",
       "<tr><td>...</td><td>...</td><td>...</td></tr>\n",
       "<tr><td>1.860707063838061</td><td>-0.8095782007948159</td><td>6.086609777446954</td></tr>\n",
       "<tr><td>1.9571168075819765</td><td>-0.6059224235397468</td><td>1.3317538727905072</td></tr>\n",
       "<tr><td>357.7717444313326</td><td>0.8004810058683438</td><td>1.1506727743751417</td></tr>\n",
       "<tr><td>358.8189338421926</td><td>1.6391483579944832</td><td>2.3655066678236008</td></tr>\n",
       "<tr><td>1.4243406442689313</td><td>0.5548789275708964</td><td>1.1614312395320199</td></tr>\n",
       "<tr><td>0.9084761802271322</td><td>-1.1155119090646832</td><td>2.0117753772362965</td></tr>\n",
       "<tr><td>1.7258646963803552</td><td>2.481001042539966</td><td>2.1958380910904047</td></tr>\n",
       "<tr><td>0.4392360734325573</td><td>0.9430142324214961</td><td>4.374748919022832</td></tr>\n",
       "<tr><td>358.8990250191707</td><td>-0.6135181691036783</td><td>1.8555464617243456</td></tr>\n",
       "<tr><td>2.4206703770909037</td><td>0.7791600129558509</td><td>1.0204523634126454</td></tr>\n",
       "</table>"
      ],
      "text/plain": [
       "<Table length=28113>\n",
       "      lon_true              lat_true              e_true      \n",
       "        deg                   deg                  TeV        \n",
       "      float64               float64              float64      \n",
       "-------------------- ---------------------- ------------------\n",
       "  359.71966813176186   -0.05346579551616161 1.4727317613361146\n",
       "  359.86942713264835     0.2329304925142466  2.199800773604575\n",
       "   359.9131164829808 -0.0002640729443205302 5.4734541904921725\n",
       "    359.788119624894   -0.14238743052670885 1.7249052575327755\n",
       " 0.14291370734333436      0.286141274167102  1.605286857093408\n",
       "   359.9712268634217  -0.027796526866250303 1.6570720797512435\n",
       "0.017174459545542222   -0.08290654872063291 1.1573103686701585\n",
       "   359.7888948253761    0.22966362286935327 3.5838578045354126\n",
       "   359.8181336933582  -0.014393645179764419 1.6340066276811915\n",
       "                 ...                    ...                ...\n",
       "   1.860707063838061    -0.8095782007948159  6.086609777446954\n",
       "  1.9571168075819765    -0.6059224235397468 1.3317538727905072\n",
       "   357.7717444313326     0.8004810058683438 1.1506727743751417\n",
       "   358.8189338421926     1.6391483579944832 2.3655066678236008\n",
       "  1.4243406442689313     0.5548789275708964 1.1614312395320199\n",
       "  0.9084761802271322    -1.1155119090646832 2.0117753772362965\n",
       "  1.7258646963803552      2.481001042539966 2.1958380910904047\n",
       "  0.4392360734325573     0.9430142324214961  4.374748919022832\n",
       "   358.8990250191707    -0.6135181691036783 1.8555464617243456\n",
       "  2.4206703770909037     0.7791600129558509 1.0204523634126454"
      ]
     },
     "execution_count": 75,
     "metadata": {},
     "output_type": "execute_result"
    }
   ],
   "source": [
    "events_src_bkg"
   ]
  },
  {
   "cell_type": "code",
   "execution_count": null,
   "metadata": {},
   "outputs": [],
   "source": []
  },
  {
   "cell_type": "code",
   "execution_count": 11,
   "metadata": {},
   "outputs": [],
   "source": [
    "from gammapy.maps import Map, MapAxis\n",
    "from astropy.coordinates import SkyCoord\n",
    "from gammapy.spectrum.models import PowerLaw\n",
    "\n",
    "\n",
    "import numpy as np\n",
    "from astropy import units as u\n",
    "import matplotlib.pyplot as plt\n",
    "\n",
    "spec = np.genfromtxt('/Users/fabio/LAVORO/CTA/Pulsar_e_PWN/HESSJ1825-137_si_S/MAPS/COMPLEX_SIMULATION/spectral_index.txt')\n",
    "\n",
    "position = SkyCoord(276.200000, -13.966667, frame='icrs', unit='deg')\n",
    "energy_axis = MapAxis.from_bounds(0.5, 200, 30, interp='log', name='energy', unit='TeV')\n",
    "\n",
    "# Create a WCS Map\n",
    "m_wcs = Map.create(binsz=(0.01,0.0006666666666666666), map_type='wcs', skydir=position, width=(3,0.19999999999999998),\n",
    "                   axes=[energy_axis])\n"
   ]
  },
  {
   "cell_type": "code",
   "execution_count": 12,
   "metadata": {},
   "outputs": [
    {
     "data": {
      "text/plain": [
       "<bound method WcsGeom.contains_pix of WcsGeom\n",
       "\n",
       "\taxes       : lon, lat, energy\n",
       "\tshape      : (300, 300, 30)\n",
       "\tndim       : 3\n",
       "\tcoordsys   : CEL\n",
       "\tprojection : CAR\n",
       "\tcenter     : 276.2 deg, -14.0 deg\n",
       "\twidth      : 3.0 x 0.2 deg\n",
       ">"
      ]
     },
     "execution_count": 12,
     "metadata": {},
     "output_type": "execute_result"
    }
   ],
   "source": [
    "m_wcs.geom.contains_pix"
   ]
  },
  {
   "cell_type": "code",
   "execution_count": 15,
   "metadata": {},
   "outputs": [],
   "source": [
    "index = spec[:,2]\n",
    "flux = spec[:,5] * 1e-13\n",
    "pos1,pos2 = spec[:,9].astype(int), spec[:,10].astype(int)\n",
    "\n",
    "fluxunit = 1. / (u.cm ** 2 * u.s * u.TeV)\n",
    "emin=1 #TeV\n",
    "emax=5 #TeV\n",
    "E_ref = 1 #TeV\n",
    "N0 = flux * (1-index) / (emax**(1-index) - emin**(1-index))\n",
    "\n",
    "\n",
    "for i in np.arange(len(index)):\n",
    "    for j in np.arange(len(energy_axis.edges)-1):\n",
    "        model = PowerLaw(\n",
    "                     index=index[i],\n",
    "                     amplitude= N0[i] * fluxunit,\n",
    "                     reference='1 TeV',\n",
    "                     )\n",
    "        flx = model.integral(emin=energy_axis.edges[j],emax=energy_axis.edges[j+1])\n",
    "        m_wcs.data[j][(300-pos1[i]):(300-pos1[i]+25),pos2[i]:(pos2[i]+25)]=flx\n"
   ]
  },
  {
   "cell_type": "code",
   "execution_count": 16,
   "metadata": {},
   "outputs": [
    {
     "data": {
      "image/png": "[encoded data removed]",
      "text/plain": [
       "<Figure size 432x288 with 1 Axes>"
      ]
     },
     "metadata": {},
     "output_type": "display_data"
    }
   ],
   "source": [
    "m_wcs.plot_interactive()"
   ]
  },
  {
   "cell_type": "code",
   "execution_count": null,
   "metadata": {},
   "outputs": [],
   "source": []
  }
 ],
 "metadata": {
  "kernelspec": {
   "display_name": "Python 3",
   "language": "python",
   "name": "python3"
  },
  "language_info": {
   "codemirror_mode": {
    "name": "ipython",
    "version": 3
   },
   "file_extension": ".py",
   "mimetype": "text/x-python",
   "name": "python",
   "nbconvert_exporter": "python",
   "pygments_lexer": "ipython3",
   "version": "3.7.0"
  }
 },
 "nbformat": 4,
 "nbformat_minor": 2
}
