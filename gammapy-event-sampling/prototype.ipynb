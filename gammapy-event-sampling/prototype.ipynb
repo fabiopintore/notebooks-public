{
 "cells": [
  {
   "cell_type": "markdown",
   "metadata": {},
   "source": [
    "# Gammapy Event Sampling Prototype\n",
    "\n",
    "Authors: Fabio Pintore and Axel Donath\n",
    "\n",
    "This notebook sketches a prototype for event sampling with Gammapy.\n",
    "\n",
    "\n",
    "Here is list of TODOs:\n",
    "\n",
    "- debug why the total number events changes when re-executing `MapEventSample.npred_total`\n",
    "- add missing docstrings and make them complete, examples of the dosctring format are in the Gammapy code base\n",
    "- add sampling of phi angle for PDF\n",
    "- compute the reconstructed positions of the events\n",
    "\n",
    "- add application of energy dispersion\n",
    "- compute reconstructed energy of the events\n",
    "\n"
   ]
  },
  {
   "cell_type": "code",
   "execution_count": 1,
   "metadata": {},
   "outputs": [],
   "source": [
    "%matplotlib inline\n",
    "import matplotlib.pyplot as plt\n",
    "import numpy as np"
   ]
  },
  {
   "cell_type": "code",
   "execution_count": 423,
   "metadata": {},
   "outputs": [],
   "source": [
    "from gammapy.utils.random import get_random_state\n",
    "from gammapy.maps import Map, MapAxis, WcsGeom\n",
    "from gammapy.cube import MapEvaluator\n",
    "\n",
    "from astropy import units as u\n",
    "from astropy.table import Table\n",
    "from astropy.coordinates import SkyCoord,Angle"
   ]
  },
  {
   "cell_type": "code",
   "execution_count": 331,
   "metadata": {},
   "outputs": [],
   "source": [
    "from gammapy.image.models import SkyGaussian\n",
    "from gammapy.spectrum.models import PowerLaw\n",
    "from gammapy.cube.models import SkyModel\n",
    "from gammapy.irf import PSF3D, EnergyDependentMultiGaussPSF, EnergyDispersion2D, Background3D\n",
    "from gammapy.utils.energy import EnergyBounds"
   ]
  },
  {
   "cell_type": "code",
   "execution_count": 334,
   "metadata": {},
   "outputs": [],
   "source": [
    "from gammapy.cube import make_psf_map, make_map_background_irf"
   ]
  },
  {
   "cell_type": "markdown",
   "metadata": {},
   "source": [
    "### Inverse CDF Sampler"
   ]
  },
  {
   "cell_type": "code",
   "execution_count": 5,
   "metadata": {},
   "outputs": [],
   "source": [
    "class InverseCDFSampler:\n",
    "    \"\"\"Inverse CDF sampler\n",
    "    \n",
    "    Parameters\n",
    "    ----------\n",
    "    pdf : ...\n",
    "    \n",
    "    \n",
    "    \"\"\"\n",
    "    def __init__(self, pdf, axis=None, random_state=0):\n",
    "        self.random_state = get_random_state(random_state) #determines a set of random numbers\n",
    "        self.axis = axis       \n",
    "        \n",
    "        if axis is not None:\n",
    "            self.cdf = np.cumsum(pdf, axis=self.axis)\n",
    "            self.cdf /= self.cdf[:, [-1]]\n",
    "        else:\n",
    "            self.pdf_shape = pdf.shape  #gives the shape of the PDF array\n",
    "\n",
    "            pdf = pdf.ravel() / pdf.sum()  #flattens the array along one axis\n",
    "            self.sortindex = np.argsort(pdf, axis=None) #sorting of the elements and giving the indexes\n",
    "\n",
    "            self.pdf = pdf[self.sortindex]  #sort the pdf array\n",
    "            self.cdf = np.cumsum(self.pdf)  #evaluate the cumulative sum of the PDF array\n",
    "        \n",
    "    def sample_axis(self):\n",
    "        \"\"\"Sample along a given axis.\n",
    "        \"\"\"\n",
    "        choice = self.random_state.uniform(high=1, size=len(self.cdf))\n",
    "        \n",
    "        #find the indices corresponding to this point on the CDF\n",
    "        index = np.argmin(np.abs(choice.reshape(-1, 1) - self.cdf), axis=self.axis)\n",
    "        \n",
    "        return index + self.random_state.uniform(low=-0.5, high=0.5,\n",
    "                                                 size=len(self.cdf))\n",
    "    def sample(self, size):\n",
    "        \"\"\"Draw sample from the given PDF.\n",
    "        \n",
    "        Parameters\n",
    "        ----------\n",
    "        size : int\n",
    "            Number of samples to draw.\n",
    "            \n",
    "        Returns\n",
    "        -------\n",
    "        index : tuple of `~numpy.ndarray`\n",
    "            Coordinates of the drawn sample      \n",
    "        \"\"\"\n",
    "        #pick numbers which are uniformly random over the cumulative distribution function\n",
    "        choice = self.random_state.uniform(high=1, size=size)\n",
    "\n",
    "        #find the indices corresponding to this point on the CDF\n",
    "        index = np.searchsorted(self.cdf, choice)\n",
    "        index = self.sortindex[index]\n",
    "\n",
    "        # map back to multi-dimensional indexing\n",
    "        index = np.unravel_index(index, self.pdf_shape) \n",
    "        index = np.vstack(index)\n",
    "\n",
    "        index = index + self.random_state.uniform(low=-0.5, high=0.5,\n",
    "                                      size=index.shape)\n",
    "        return index"
   ]
  },
  {
   "cell_type": "markdown",
   "metadata": {},
   "source": [
    " ### MapEventSampler"
   ]
  },
  {
   "cell_type": "code",
   "execution_count": 238,
   "metadata": {},
   "outputs": [],
   "source": [
    "class MapEventSampler:\n",
    "    \"\"\"Map event sampler\n",
    "    \n",
    "    Parameters\n",
    "    ----------\n",
    "    \n",
    "    npred_map : `~gammapy.maps.Map`\n",
    "        Predicted number of counts map.\n",
    "    ...\n",
    "    \n",
    "    \n",
    "    \"\"\"\n",
    "    def __init__(self, npred_map, psf_map=None, edisp_map=None, background_map=None,\n",
    "                 random_state=0):\n",
    "        self.random_state = get_random_state(random_state)\n",
    "        self.npred_map = npred_map\n",
    "        self.psf_map = psf_map\n",
    "        self.edisp_map = edisp_map\n",
    "        self.background_map = background_map\n",
    "\n",
    "    def npred_total(self):\n",
    "        #return self.random_state.poisson(self.npred_map.data.sum())\n",
    "        return self.random_state.poisson(np.sum(self.npred_map.data))\n",
    "\n",
    "    def apply_edisp(self, events):\n",
    "        # apply energy dispersion to list of events\n",
    "        pdf = self.edisp_map.interp_by_coord({\"skycoord\": events.radec,\n",
    "        \"energy\": events.energy})\n",
    "\n",
    "        return events\n",
    "\n",
    "    def apply_psf(self,events):\n",
    "        # apply psf to list of events\n",
    "        sample_pdf = InverseCDFSampler(self.psf_map, axis=1)\n",
    "        pix_coord = sample_pdf.sample_axis()\n",
    "        offset = theta_axis.pix_to_coord(pix_coord)\n",
    "        \n",
    "        events['lon_true'] = events['lon_true'] + offset*(-1.)**random_state.randint(2, size=len(events))\n",
    "        events['lat_true'] = events['lat_true'] + offset*(-1.)**random_state.randint(2, size=len(events))\n",
    "        return events\n",
    "        \n",
    "#         rad = np.linspace(0, 1 * u.deg, 100)[np.newaxis, :]\n",
    "#         pdf = self.psf_map.interp_by_coord({\"skycoord\": events.radec, \n",
    "#         \"energy\": events.energy, \"rad\": rad})\n",
    "\n",
    "        # sample from pdf along rad axis\n",
    "#         return events\n",
    "\n",
    "    def sample_background(self):\n",
    "        self.background_map\n",
    "        # sample from background model without applying IRFs\n",
    "        return events\n",
    "\n",
    "    def sample_npred(self):\n",
    "        n_events = self.npred_total()\n",
    "        \n",
    "        cdf_sampler = InverseCDFSampler(self.npred_map.data, random_state=self.random_state)\n",
    "        \n",
    "        pix_coords = cdf_sampler.sample(n_events)\n",
    "        coords = self.npred_map.geom.pix_to_coord(pix_coords[::-1])\n",
    "        \n",
    "        events = Table()\n",
    "        events['lon_true'] = coords[0] * u.deg\n",
    "        events['lat_true'] = coords[1] * u.deg\n",
    "        events['e_true'] = coords[2] * u.TeV\n",
    "        return events\n",
    "\n",
    "    def sample_events(self):\n",
    "        \"\"\"Sample all events.\n",
    "        \n",
    "        Returns\n",
    "        -------\n",
    "        \n",
    "        \"\"\"\n",
    "        events = self.sample_npred()\n",
    "        events = self.apply_psf(events)\n",
    "        events = self.apply_edisp(events)\n",
    "\n",
    "        bkg_events = self.sample_background()\n",
    "\n",
    "        table = vstack(events, bkg_events)\n",
    "        \n",
    "        return table"
   ]
  },
  {
   "cell_type": "markdown",
   "metadata": {},
   "source": [
    "### Toy source model\n",
    "\n",
    "For testing let's create a toy source model with a Gaussian morphology and a power-law spectrum:"
   ]
  },
  {
   "cell_type": "code",
   "execution_count": 239,
   "metadata": {},
   "outputs": [],
   "source": [
    "#random_state = get_random_state(0)\n",
    "#choice = random_state.uniform(high=1, size=10)\n",
    "#index = np.argmin(choice.reshape(-1, 1))\n",
    "#print(index)\n",
    "#print(random_state.uniform(low=-0.5, high=0.5, size=10))\n",
    "#print(index, random_state.uniform(low=-0.5, high=0.5, size=10))\n",
    "#print(index + random_state.uniform(low=-0.5, high=0.5, size=10))\n",
    "#index = np.argmin(np.abs(choice.reshape(-1, 1) - self.cdf), axis=axis)"
   ]
  },
  {
   "cell_type": "raw",
   "metadata": {},
   "source": []
  },
  {
   "cell_type": "code",
   "execution_count": 240,
   "metadata": {},
   "outputs": [],
   "source": [
    "spatial_model = SkyGaussian(\"0 deg\", \"0 deg\", sigma=\"0.2 deg\")\n",
    "spectral_model = PowerLaw(amplitude=\"1e-11 cm-2 s-1 TeV-1\")\n",
    "skymodel = SkyModel(spatial_model=spatial_model, spectral_model=spectral_model)"
   ]
  },
  {
   "cell_type": "markdown",
   "metadata": {},
   "source": [
    "Now we create a reference exposure map, we use to evaluate the model:"
   ]
  },
  {
   "cell_type": "code",
   "execution_count": 241,
   "metadata": {},
   "outputs": [],
   "source": [
    "position = SkyCoord(0.0, 0.0, frame='galactic', unit='deg')\n",
    "\n",
    "energy_axis = MapAxis.from_bounds(1, 100, nbin=30, unit=\"TeV\", name=\"energy\", interp=\"log\")\n",
    "\n",
    "exposure = Map.create(\n",
    "    binsz=0.02,\n",
    "    map_type='wcs',\n",
    "    skydir=position,\n",
    "    width=\"5 deg\",\n",
    "    axes=[energy_axis],\n",
    "    coordsys=\"GAL\", unit=\"cm2 s\"\n",
    ")\n",
    "\n",
    "exposure.data = 1e13 * np.ones(exposure.data.shape)"
   ]
  },
  {
   "cell_type": "code",
   "execution_count": 242,
   "metadata": {},
   "outputs": [],
   "source": [
    "#exposure.plot_interactive()"
   ]
  },
  {
   "cell_type": "markdown",
   "metadata": {},
   "source": [
    "To compute the predicted number of counts we use the `MapEvaluator`:"
   ]
  },
  {
   "cell_type": "code",
   "execution_count": 243,
   "metadata": {},
   "outputs": [],
   "source": [
    "evaluator = MapEvaluator(model=skymodel, exposure=exposure)\n",
    "\n",
    "npred = evaluator.compute_npred()"
   ]
  },
  {
   "cell_type": "code",
   "execution_count": 244,
   "metadata": {},
   "outputs": [
    {
     "data": {
      "text/plain": [
       "WcsNDMap\n",
       "\n",
       "\tgeom  : WcsGeom \n",
       " \taxes  : lon, lat, energy\n",
       "\tshape : (250, 250, 30)\n",
       "\tndim  : 3\n",
       "\tunit  : 'cm2 s' \n",
       "\tdtype : float64 "
      ]
     },
     "execution_count": 244,
     "metadata": {},
     "output_type": "execute_result"
    }
   ],
   "source": [
    "npred"
   ]
  },
  {
   "cell_type": "code",
   "execution_count": 245,
   "metadata": {},
   "outputs": [
    {
     "data": {
      "image/png": "[encoded data removed]",
      "text/plain": [
       "<Figure size 432x288 with 2 Axes>"
      ]
     },
     "metadata": {
      "needs_background": "light"
     },
     "output_type": "display_data"
    }
   ],
   "source": [
    "npred.plot_interactive(add_cbar=True, stretch=\"sqrt\")"
   ]
  },
  {
   "cell_type": "code",
   "execution_count": 246,
   "metadata": {},
   "outputs": [],
   "source": [
    "#npred.plot_interactive()"
   ]
  },
  {
   "cell_type": "code",
   "execution_count": 247,
   "metadata": {},
   "outputs": [],
   "source": [
    "sampler = MapEventSampler(npred)\n",
    "events=sampler.sample_npred()"
   ]
  },
  {
   "cell_type": "code",
   "execution_count": null,
   "metadata": {},
   "outputs": [],
   "source": []
  },
  {
   "cell_type": "code",
   "execution_count": 248,
   "metadata": {},
   "outputs": [
    {
     "data": {
      "text/html": [
       "<i>Table length=100</i>\n",
       "<table id=\"table4835020472\" class=\"table-striped table-bordered table-condensed\">\n",
       "<thead><tr><th>lon_true</th><th>lat_true</th><th>e_true</th></tr></thead>\n",
       "<thead><tr><th>deg</th><th>deg</th><th>TeV</th></tr></thead>\n",
       "<thead><tr><th>float64</th><th>float64</th><th>float64</th></tr></thead>\n",
       "<tr><td>359.7333370969594</td><td>-0.07244496321415028</td><td>1.5217603637521027</td></tr>\n",
       "<tr><td>359.85837797220023</td><td>0.20359207355119283</td><td>2.1419659842005205</td></tr>\n",
       "<tr><td>359.8918551765717</td><td>-0.019506425432173274</td><td>5.622337036174219</td></tr>\n",
       "<tr><td>359.7953553171566</td><td>-0.1186550073707349</td><td>1.7314521299420373</td></tr>\n",
       "<tr><td>0.15735024730484043</td><td>0.2935878554699713</td><td>1.7356792123034828</td></tr>\n",
       "<tr><td>359.9989314563643</td><td>-0.03092606310887902</td><td>1.7304144260407368</td></tr>\n",
       "<tr><td>0.005488112715788418</td><td>-0.06926841577782568</td><td>1.206531807265262</td></tr>\n",
       "<tr><td>359.7997714508275</td><td>0.17793342586080713</td><td>3.3898717477327427</td></tr>\n",
       "<tr><td>359.8245883850299</td><td>-0.08019322105206583</td><td>1.4559340127482747</td></tr>\n",
       "<tr><td>...</td><td>...</td><td>...</td></tr>\n",
       "<tr><td>359.9948263186622</td><td>-0.0035576453361150584</td><td>30.135578560595683</td></tr>\n",
       "<tr><td>359.98301923383144</td><td>-0.23620304176194482</td><td>1.5714171647061466</td></tr>\n",
       "<tr><td>359.93933390746906</td><td>-0.24977362034907089</td><td>5.199601411815321</td></tr>\n",
       "<tr><td>0.10082034556273044</td><td>0.06448634057949448</td><td>17.08823681133315</td></tr>\n",
       "<tr><td>0.012892623030561481</td><td>0.08195688968988066</td><td>3.5358538730155957</td></tr>\n",
       "<tr><td>359.65286586219196</td><td>0.11724383034843357</td><td>41.39587804204178</td></tr>\n",
       "<tr><td>0.17967342994632587</td><td>-0.10054161021953746</td><td>1.1763465343878494</td></tr>\n",
       "<tr><td>0.1362953534952763</td><td>0.4392166931612599</td><td>78.63715177583421</td></tr>\n",
       "<tr><td>359.7319748099839</td><td>-0.021868890015576313</td><td>1.2230749144976887</td></tr>\n",
       "<tr><td>0.0014141716539458572</td><td>0.25548094665397286</td><td>6.022214671662589</td></tr>\n",
       "</table>"
      ],
      "text/plain": [
       "<Table length=100>\n",
       "       lon_true              lat_true              e_true      \n",
       "         deg                   deg                  TeV        \n",
       "       float64               float64              float64      \n",
       "--------------------- ---------------------- ------------------\n",
       "    359.7333370969594   -0.07244496321415028 1.5217603637521027\n",
       "   359.85837797220023    0.20359207355119283 2.1419659842005205\n",
       "    359.8918551765717  -0.019506425432173274  5.622337036174219\n",
       "    359.7953553171566    -0.1186550073707349 1.7314521299420373\n",
       "  0.15735024730484043     0.2935878554699713 1.7356792123034828\n",
       "    359.9989314563643   -0.03092606310887902 1.7304144260407368\n",
       " 0.005488112715788418   -0.06926841577782568  1.206531807265262\n",
       "    359.7997714508275    0.17793342586080713 3.3898717477327427\n",
       "    359.8245883850299   -0.08019322105206583 1.4559340127482747\n",
       "                  ...                    ...                ...\n",
       "    359.9948263186622 -0.0035576453361150584 30.135578560595683\n",
       "   359.98301923383144   -0.23620304176194482 1.5714171647061466\n",
       "   359.93933390746906   -0.24977362034907089  5.199601411815321\n",
       "  0.10082034556273044    0.06448634057949448  17.08823681133315\n",
       " 0.012892623030561481    0.08195688968988066 3.5358538730155957\n",
       "   359.65286586219196    0.11724383034843357  41.39587804204178\n",
       "  0.17967342994632587   -0.10054161021953746 1.1763465343878494\n",
       "   0.1362953534952763     0.4392166931612599  78.63715177583421\n",
       "    359.7319748099839  -0.021868890015576313 1.2230749144976887\n",
       "0.0014141716539458572    0.25548094665397286  6.022214671662589"
      ]
     },
     "execution_count": 248,
     "metadata": {},
     "output_type": "execute_result"
    }
   ],
   "source": [
    "events"
   ]
  },
  {
   "cell_type": "markdown",
   "metadata": {},
   "source": [
    "### Sampling from the PSF\n",
    "\n",
    "For the testing of the PSF sampling we read in an example PSF from the CTA first data challenge:"
   ]
  },
  {
   "cell_type": "code",
   "execution_count": 421,
   "metadata": {},
   "outputs": [],
   "source": [
    "filename = \"$GAMMAPY_DATA/cta-1dc/caldb/data/cta/1dc/bcf/South_z20_50h/irf_file.fits\"\n",
    "#filename = \"/Users/fabio/LAVORO/CTA/DC/caldb/data/cta/1dc/bcf/South_z20_50h/irf_file.fits\"\n",
    "psf_gauss = EnergyDependentMultiGaussPSF.read(filename=filename, hdu=\"POINT SPREAD FUNCTION\")\n",
    "psf_3d = psf_gauss.to_psf3d(rad=np.linspace(0, 1, 100) * u.deg)\n",
    "psf_map = make_psf_map(psf_3d, geom=geom_psf, pointing=geom_psf.center_skydir, max_offset=3 * u.deg)"
   ]
  },
  {
   "cell_type": "markdown",
   "metadata": {},
   "source": [
    "From this we create a PSF map:"
   ]
  },
  {
   "cell_type": "code",
   "execution_count": 250,
   "metadata": {},
   "outputs": [],
   "source": [
    "theta_axis = MapAxis.from_bounds(0, 0.5, nbin=100, unit=\"deg\", name=\"theta\")\n",
    "\n",
    "geom_psf = WcsGeom.create(\n",
    "    binsz=0.2,\n",
    "    skydir=position,\n",
    "    width=\"5 deg\",\n",
    "    axes=[theta_axis, energy_axis],\n",
    "    coordsys=\"GAL\"\n",
    ")"
   ]
  },
  {
   "cell_type": "code",
   "execution_count": 251,
   "metadata": {},
   "outputs": [],
   "source": [
    "psf_map = make_psf_map(psf_3d, geom=geom_psf, pointing=geom_psf.center_skydir, max_offset=3 * u.deg)"
   ]
  },
  {
   "cell_type": "markdown",
   "metadata": {},
   "source": [
    "Now we look up the shape of the PSF at every true event position (in space and energy):"
   ]
  },
  {
   "cell_type": "code",
   "execution_count": 252,
   "metadata": {},
   "outputs": [],
   "source": [
    "events.sort(\"e_true\")\n",
    "coord = {\n",
    "    \"lon\": events[\"lon_true\"].reshape(-1, 1),\n",
    "    \"lat\": events[\"lat_true\"].reshape(-1, 1),\n",
    "    \"energy\": events[\"e_true\"].quantity.reshape(-1, 1),\n",
    "    \"theta\": (theta_axis.center * theta_axis.unit)\n",
    "}\n",
    "\n",
    "pdf = psf_map.psf_map.interp_by_coord(coord)"
   ]
  },
  {
   "cell_type": "code",
   "execution_count": null,
   "metadata": {},
   "outputs": [],
   "source": []
  },
  {
   "cell_type": "code",
   "execution_count": 253,
   "metadata": {},
   "outputs": [],
   "source": [
    "# plt.figure(figsize=(12, 4))\n",
    "# plt.imshow(np.sqrt(pdf))\n",
    "# plt.xlabel(\"Theta (pixels)\")\n",
    "# plt.ylabel(\"Event #\")"
   ]
  },
  {
   "cell_type": "markdown",
   "metadata": {},
   "source": [
    "Now we sample form the 2D PDF along the theta axis:"
   ]
  },
  {
   "cell_type": "code",
   "execution_count": 254,
   "metadata": {},
   "outputs": [],
   "source": [
    "sample_pdf = InverseCDFSampler(pdf, axis=1)\n",
    "pix_coord = sample_pdf.sample_axis()\n",
    "\n",
    "offset = theta_axis.pix_to_coord(pix_coord)"
   ]
  },
  {
   "cell_type": "code",
   "execution_count": 255,
   "metadata": {},
   "outputs": [],
   "source": [
    "# we apply the psf to the simulated events\n",
    "#\n",
    "sampler = MapEventSampler(npred,psf_map=pdf)\n",
    "events=sampler.sample_npred()\n",
    "events=sampler.apply_psf(events)\n",
    "#events=sampler.apply_edisp(events)"
   ]
  },
  {
   "cell_type": "code",
   "execution_count": 256,
   "metadata": {},
   "outputs": [
    {
     "data": {
      "text/html": [
       "<i>Table length=100</i>\n",
       "<table id=\"table4827919920\" class=\"table-striped table-bordered table-condensed\">\n",
       "<thead><tr><th>lon_true</th><th>lat_true</th><th>e_true</th></tr></thead>\n",
       "<thead><tr><th>deg</th><th>deg</th><th>TeV</th></tr></thead>\n",
       "<thead><tr><th>float64</th><th>float64</th><th>float64</th></tr></thead>\n",
       "<tr><td>359.7567261796434</td><td>-0.04905588053016913</td><td>1.5217603637521027</td></tr>\n",
       "<tr><td>359.8897280120662</td><td>0.172242033685232</td><td>2.1419659842005205</td></tr>\n",
       "<tr><td>359.9205311466823</td><td>-0.04818239554278625</td><td>5.622337036174219</td></tr>\n",
       "<tr><td>359.770544374431</td><td>-0.1434659500963221</td><td>1.7314521299420373</td></tr>\n",
       "<tr><td>0.14110648158724065</td><td>0.2773440897523715</td><td>1.7356792123034828</td></tr>\n",
       "<tr><td>359.9710506696922</td><td>-0.0588068497809682</td><td>1.7304144260407368</td></tr>\n",
       "<tr><td>0.023448322372147615</td><td>-0.08722862543418487</td><td>1.206531807265262</td></tr>\n",
       "<tr><td>359.7469101912985</td><td>0.2307946853897615</td><td>3.3898717477327427</td></tr>\n",
       "<tr><td>359.7584729768667</td><td>-0.14630862921526894</td><td>1.4559340127482747</td></tr>\n",
       "<tr><td>...</td><td>...</td><td>...</td></tr>\n",
       "<tr><td>359.9878352133511</td><td>-0.010548750647195518</td><td>30.135578560595683</td></tr>\n",
       "<tr><td>359.9619700150866</td><td>-0.2151538230170692</td><td>1.5714171647061466</td></tr>\n",
       "<tr><td>359.94026487249846</td><td>-0.25070458537847257</td><td>5.199601411815321</td></tr>\n",
       "<tr><td>0.1255422075126501</td><td>0.039764478629574815</td><td>17.08823681133315</td></tr>\n",
       "<tr><td>0.004194869055315043</td><td>0.07325913571463422</td><td>3.5358538730155957</td></tr>\n",
       "<tr><td>359.65531815623507</td><td>0.11479153630534573</td><td>41.39587804204178</td></tr>\n",
       "<tr><td>0.16353635680645925</td><td>-0.08440453707967084</td><td>1.1763465343878494</td></tr>\n",
       "<tr><td>0.13502357108642435</td><td>0.44048847557011184</td><td>78.63715177583421</td></tr>\n",
       "<tr><td>359.7066846641823</td><td>0.0034212557860430655</td><td>1.2230749144976887</td></tr>\n",
       "<tr><td>-0.0007579114738447469</td><td>0.25330886352618226</td><td>6.022214671662589</td></tr>\n",
       "</table>"
      ],
      "text/plain": [
       "<Table length=100>\n",
       "       lon_true               lat_true             e_true      \n",
       "         deg                    deg                 TeV        \n",
       "       float64                float64             float64      \n",
       "---------------------- --------------------- ------------------\n",
       "     359.7567261796434  -0.04905588053016913 1.5217603637521027\n",
       "     359.8897280120662     0.172242033685232 2.1419659842005205\n",
       "     359.9205311466823  -0.04818239554278625  5.622337036174219\n",
       "      359.770544374431   -0.1434659500963221 1.7314521299420373\n",
       "   0.14110648158724065    0.2773440897523715 1.7356792123034828\n",
       "     359.9710506696922   -0.0588068497809682 1.7304144260407368\n",
       "  0.023448322372147615  -0.08722862543418487  1.206531807265262\n",
       "     359.7469101912985    0.2307946853897615 3.3898717477327427\n",
       "     359.7584729768667  -0.14630862921526894 1.4559340127482747\n",
       "                   ...                   ...                ...\n",
       "     359.9878352133511 -0.010548750647195518 30.135578560595683\n",
       "     359.9619700150866   -0.2151538230170692 1.5714171647061466\n",
       "    359.94026487249846  -0.25070458537847257  5.199601411815321\n",
       "    0.1255422075126501  0.039764478629574815  17.08823681133315\n",
       "  0.004194869055315043   0.07325913571463422 3.5358538730155957\n",
       "    359.65531815623507   0.11479153630534573  41.39587804204178\n",
       "   0.16353635680645925  -0.08440453707967084 1.1763465343878494\n",
       "   0.13502357108642435   0.44048847557011184  78.63715177583421\n",
       "     359.7066846641823 0.0034212557860430655 1.2230749144976887\n",
       "-0.0007579114738447469   0.25330886352618226  6.022214671662589"
      ]
     },
     "execution_count": 256,
     "metadata": {},
     "output_type": "execute_result"
    }
   ],
   "source": [
    "events"
   ]
  },
  {
   "cell_type": "markdown",
   "metadata": {},
   "source": [
    "A an additional check we sample from a point source at fixed energy:"
   ]
  },
  {
   "cell_type": "code",
   "execution_count": null,
   "metadata": {},
   "outputs": [],
   "source": []
  },
  {
   "cell_type": "raw",
   "metadata": {},
   "source": []
  },
  {
   "cell_type": "code",
   "execution_count": 111,
   "metadata": {},
   "outputs": [],
   "source": [
    "N = 100000\n",
    "energy = np.ones(N) * u.TeV\n",
    "theta = (theta_axis.center * theta_axis.unit)\n",
    "\n",
    "coord = {\n",
    "    \"lon\": np.zeros(N).reshape(-1, 1),\n",
    "    \"lat\": np.zeros(N).reshape(-1, 1),\n",
    "    \"energy\": energy.reshape(-1, 1),\n",
    "    \"theta\": theta\n",
    "    \n",
    "}\n",
    "\n",
    "pdf = psf_map.psf_map.interp_by_coord(coord)"
   ]
  },
  {
   "cell_type": "code",
   "execution_count": 112,
   "metadata": {},
   "outputs": [],
   "source": [
    "sample_pdf = InverseCDFSampler(pdf, axis=1)\n",
    "pix_coord = sample_pdf.sample_axis()\n",
    "coords = theta_axis.pix_to_coord(pix_coord)"
   ]
  },
  {
   "cell_type": "code",
   "execution_count": 115,
   "metadata": {},
   "outputs": [
    {
     "data": {
      "text/plain": [
       "array([0.02267629, 0.03452022, 0.02751198, ..., 0.04107312, 0.02147888,\n",
       "       0.00921252])"
      ]
     },
     "execution_count": 115,
     "metadata": {},
     "output_type": "execute_result"
    }
   ],
   "source": [
    "coords"
   ]
  },
  {
   "cell_type": "markdown",
   "metadata": {},
   "source": [
    "This what the CDF looks like:"
   ]
  },
  {
   "cell_type": "code",
   "execution_count": 113,
   "metadata": {},
   "outputs": [
    {
     "data": {
      "text/plain": [
       "[<matplotlib.lines.Line2D at 0x11d9efe80>]"
      ]
     },
     "execution_count": 113,
     "metadata": {},
     "output_type": "execute_result"
    },
    {
     "data": {
      "image/png": "[encoded data removed]",
      "text/plain": [
       "<Figure size 432x288 with 1 Axes>"
      ]
     },
     "metadata": {
      "needs_background": "light"
     },
     "output_type": "display_data"
    }
   ],
   "source": [
    "plt.plot(sample_pdf.cdf[0])"
   ]
  },
  {
   "cell_type": "markdown",
   "metadata": {},
   "source": [
    "Let's check the histogram against the analytical PDF:"
   ]
  },
  {
   "cell_type": "code",
   "execution_count": 114,
   "metadata": {},
   "outputs": [
    {
     "data": {
      "text/plain": [
       "(0, 0.2)"
      ]
     },
     "execution_count": 114,
     "metadata": {},
     "output_type": "execute_result"
    },
    {
     "data": {
      "image/png": "[encoded data removed]",
      "text/plain": [
       "<Figure size 432x288 with 1 Axes>"
      ]
     },
     "metadata": {
      "needs_background": "light"
     },
     "output_type": "display_data"
    }
   ],
   "source": [
    "psf_value = psf_3d.evaluate(energy=1 * u.TeV, offset=0 * u.deg, rad=theta)\n",
    "psf_value = psf_value / psf_value.sum()\n",
    "\n",
    "psf_hist, vals = np.histogram(coords, theta_axis.edges)\n",
    "plt.step(theta, psf_hist / psf_hist.sum());\n",
    "plt.plot(theta, psf_value.squeeze())\n",
    "plt.semilogy()\n",
    "plt.ylim(1e-6, 1)\n",
    "plt.xlim(0, 0.2)"
   ]
  },
  {
   "cell_type": "markdown",
   "metadata": {},
   "source": [
    "### Sampling from the Edisp\n",
    "\n",
    "For the testing of the Edisp sampling we read in an example Edisp from the CTA first data challenge:"
   ]
  },
  {
   "cell_type": "code",
   "execution_count": 271,
   "metadata": {},
   "outputs": [],
   "source": [
    "edisp2D = EnergyDispersion2D.read(filename=filename, hdu=\"ENERGY DISPERSION\")"
   ]
  },
  {
   "cell_type": "code",
   "execution_count": 328,
   "metadata": {},
   "outputs": [],
   "source": [
    "energy = EnergyBounds.equal_log_spacing(0.1,100,100, 'TeV')\n",
    "edisp = edisp2D.to_energy_dispersion(offset='0.0 deg', e_reco=energy, e_true=energy)"
   ]
  },
  {
   "cell_type": "code",
   "execution_count": 329,
   "metadata": {},
   "outputs": [
    {
     "data": {
      "text/plain": [
       "(100, 100)"
      ]
     },
     "execution_count": 329,
     "metadata": {},
     "output_type": "execute_result"
    }
   ],
   "source": [
    "np.shape(edisp.data.data)"
   ]
  },
  {
   "cell_type": "markdown",
   "metadata": {},
   "source": [
    "### Sampling the BKG\n",
    "\n",
    "For the testing of the background, we read in an example background from the CTA first data challenge:"
   ]
  },
  {
   "cell_type": "code",
   "execution_count": 425,
   "metadata": {},
   "outputs": [
    {
     "ename": "AttributeError",
     "evalue": "'SkyCoord' object has no attribute 'altaz_frame'",
     "output_type": "error",
     "traceback": [
      "\u001b[0;31m---------------------------------------------------------------------------\u001b[0m",
      "\u001b[0;31mAttributeError\u001b[0m                            Traceback (most recent call last)",
      "\u001b[0;32m<ipython-input-425-59b1717766e9>\u001b[0m in \u001b[0;36m<module>\u001b[0;34m\u001b[0m\n\u001b[1;32m     15\u001b[0m \u001b[0moffset\u001b[0m \u001b[0;34m=\u001b[0m \u001b[0mAngle\u001b[0m\u001b[0;34m(\u001b[0m\u001b[0;34m\"2 deg\"\u001b[0m\u001b[0;34m)\u001b[0m\u001b[0;34m\u001b[0m\u001b[0m\n\u001b[1;32m     16\u001b[0m background = make_map_background_irf(\n\u001b[0;32m---> 17\u001b[0;31m     \u001b[0mpointing\u001b[0m\u001b[0;34m=\u001b[0m\u001b[0mpointing\u001b[0m\u001b[0;34m,\u001b[0m \u001b[0montime\u001b[0m\u001b[0;34m=\u001b[0m\u001b[0mlivetime\u001b[0m\u001b[0;34m,\u001b[0m \u001b[0mbkg\u001b[0m\u001b[0;34m=\u001b[0m\u001b[0mirfs\u001b[0m\u001b[0;34m[\u001b[0m\u001b[0;34m\"bkg\"\u001b[0m\u001b[0;34m]\u001b[0m\u001b[0;34m,\u001b[0m \u001b[0mgeom\u001b[0m\u001b[0;34m=\u001b[0m\u001b[0mgeom\u001b[0m\u001b[0;34m\u001b[0m\u001b[0m\n\u001b[0m\u001b[1;32m     18\u001b[0m )\n",
      "\u001b[0;32m~/LAVORO/CTA/GAMMAPY/GIT/gammapy/gammapy/cube/background.py\u001b[0m in \u001b[0;36mmake_map_background_irf\u001b[0;34m(pointing, ontime, bkg, geom)\u001b[0m\n\u001b[1;32m     39\u001b[0m     \u001b[0mmap_coord\u001b[0m \u001b[0;34m=\u001b[0m \u001b[0mgeom\u001b[0m\u001b[0;34m.\u001b[0m\u001b[0mto_image\u001b[0m\u001b[0;34m(\u001b[0m\u001b[0;34m)\u001b[0m\u001b[0;34m.\u001b[0m\u001b[0mget_coord\u001b[0m\u001b[0;34m(\u001b[0m\u001b[0;34m)\u001b[0m\u001b[0;34m\u001b[0m\u001b[0m\n\u001b[1;32m     40\u001b[0m     \u001b[0msky_coord\u001b[0m \u001b[0;34m=\u001b[0m \u001b[0mmap_coord\u001b[0m\u001b[0;34m.\u001b[0m\u001b[0mskycoord\u001b[0m\u001b[0;34m\u001b[0m\u001b[0m\n\u001b[0;32m---> 41\u001b[0;31m     \u001b[0maltaz_coord\u001b[0m \u001b[0;34m=\u001b[0m \u001b[0msky_coord\u001b[0m\u001b[0;34m.\u001b[0m\u001b[0mtransform_to\u001b[0m\u001b[0;34m(\u001b[0m\u001b[0mpointing\u001b[0m\u001b[0;34m.\u001b[0m\u001b[0maltaz_frame\u001b[0m\u001b[0;34m)\u001b[0m\u001b[0;34m\u001b[0m\u001b[0m\n\u001b[0m\u001b[1;32m     42\u001b[0m \u001b[0;34m\u001b[0m\u001b[0m\n\u001b[1;32m     43\u001b[0m     \u001b[0;31m# Compute FOV coordinates of map relative to pointing\u001b[0m\u001b[0;34m\u001b[0m\u001b[0;34m\u001b[0m\u001b[0m\n",
      "\u001b[0;32m/anaconda2/envs/gammapy-dev/lib/python3.7/site-packages/astropy/coordinates/sky_coordinate.py\u001b[0m in \u001b[0;36m__getattr__\u001b[0;34m(self, attr)\u001b[0m\n\u001b[1;32m    598\u001b[0m         \u001b[0;31m# Fail\u001b[0m\u001b[0;34m\u001b[0m\u001b[0;34m\u001b[0m\u001b[0m\n\u001b[1;32m    599\u001b[0m         raise AttributeError(\"'{0}' object has no attribute '{1}'\"\n\u001b[0;32m--> 600\u001b[0;31m                              .format(self.__class__.__name__, attr))\n\u001b[0m\u001b[1;32m    601\u001b[0m \u001b[0;34m\u001b[0m\u001b[0m\n\u001b[1;32m    602\u001b[0m     \u001b[0;32mdef\u001b[0m \u001b[0m__setattr__\u001b[0m\u001b[0;34m(\u001b[0m\u001b[0mself\u001b[0m\u001b[0;34m,\u001b[0m \u001b[0mattr\u001b[0m\u001b[0;34m,\u001b[0m \u001b[0mval\u001b[0m\u001b[0;34m)\u001b[0m\u001b[0;34m:\u001b[0m\u001b[0;34m\u001b[0m\u001b[0m\n",
      "\u001b[0;31mAttributeError\u001b[0m: 'SkyCoord' object has no attribute 'altaz_frame'"
     ]
    }
   ],
   "source": [
    "from gammapy.irf import load_cta_irfs\n",
    "filename = (\n",
    "    \"$GAMMAPY_DATA/cta-1dc/caldb/data/cta/1dc/bcf/South_z20_50h/irf_file.fits\"\n",
    ")\n",
    "irfs = load_cta_irfs(filename)\n",
    "axis = MapAxis.from_edges(\n",
    "    np.logspace(-1.0, 1.0, 10), unit=\"TeV\", name=\"energy\", interp=\"log\"\n",
    ")\n",
    "geom = WcsGeom.create(\n",
    "    skydir=(0, 0), binsz=0.02, width=(5, 4), coordsys=\"GAL\", axes=[axis]\n",
    ")\n",
    "pointing = SkyCoord(1, 0.5, unit=\"deg\", frame=\"galactic\")\n",
    "livetime = 1 * u.hour\n",
    "offset_max = 2 * u.deg\n",
    "offset = Angle(\"2 deg\")\n",
    "background = make_map_background_irf(\n",
    "    pointing=pointing, ontime=livetime, bkg=irfs[\"bkg\"], geom=geom\n",
    ")"
   ]
  },
  {
   "cell_type": "code",
   "execution_count": 409,
   "metadata": {},
   "outputs": [
    {
     "name": "stdout",
     "output_type": "stream",
     "text": [
      "Background3D\n",
      "NDDataArray summary info\n",
      "energy         : size =    21, min =  0.016 TeV, max = 158.489 TeV\n",
      "fov_lon        : size =    36, min = -5.833 deg, max =  5.833 deg\n",
      "fov_lat        : size =    36, min = -5.833 deg, max =  5.833 deg\n",
      "Data           : size = 27216, min =  0.000 1 / (MeV s sr), max =  0.421 1 / (MeV s sr)\n",
      "\n"
     ]
    }
   ],
   "source": [
    "print(irfs['bkg'])"
   ]
  },
  {
   "cell_type": "code",
   "execution_count": 414,
   "metadata": {},
   "outputs": [],
   "source": [
    "bkg = Background3D.read(filename=filename)\n",
    "livetime = 10 * u.hour"
   ]
  },
  {
   "cell_type": "code",
   "execution_count": 420,
   "metadata": {},
   "outputs": [
    {
     "name": "stdout",
     "output_type": "stream",
     "text": [
      "<SkyCoord (Galactic): (l, b) in deg\n",
      "    (0., 0.)>\n"
     ]
    }
   ],
   "source": [
    "print(position)"
   ]
  },
  {
   "cell_type": "code",
   "execution_count": 416,
   "metadata": {},
   "outputs": [
    {
     "data": {
      "text/plain": [
       "<gammapy.utils.nddata.NDDataArray at 0x12ecde160>"
      ]
     },
     "execution_count": 416,
     "metadata": {},
     "output_type": "execute_result"
    }
   ],
   "source": [
    "bkg.data"
   ]
  },
  {
   "cell_type": "code",
   "execution_count": 418,
   "metadata": {},
   "outputs": [],
   "source": [
    "make_map_background_irf(pointing=position, ontime=livetime, bkg=irfs['bkg'], geom=geom)"
   ]
  },
  {
   "cell_type": "code",
   "execution_count": 419,
   "metadata": {},
   "outputs": [],
   "source": [
    "#print(bkg.)"
   ]
  },
  {
   "cell_type": "code",
   "execution_count": 370,
   "metadata": {},
   "outputs": [
    {
     "name": "stdout",
     "output_type": "stream",
     "text": [
      "<SkyCoord (Galactic): (l, b) in deg\n",
      "    (0., 0.)>\n"
     ]
    }
   ],
   "source": [
    "from gammapy.data import PointingInfo\n",
    "pointing_info = PointingInfo.read('$GAMMAPY_DATA/tests/hess_event_list.fits')\n",
    "\n",
    "position = SkyCoord(0.0, 0.0, frame='galactic', unit='deg')\n",
    "\n",
    "wcs_geom = WcsGeom.create(\n",
    "    binsz=0.02, width=(5, 5), skydir=pointing_info.radec[0], coordsys=\"GAL\"\n",
    ")\n",
    "print(position)\n",
    "#position.altaz(pointing_info.altaz[0]) "
   ]
  },
  {
   "cell_type": "code",
   "execution_count": 387,
   "metadata": {},
   "outputs": [
    {
     "name": "stdout",
     "output_type": "stream",
     "text": [
      "Pointing info:\n",
      "\n",
      "Location:     GeodeticLocation(lon=<Longitude 16.50022222 deg>, lat=<Latitude -23.27177778 deg>, height=<Quantity 1835. m>)\n",
      "MJDREFI, MJDREFF, TIMESYS = (51910, 0.000742870370370241, 'TT')\n",
      "Time ref:     2001-01-01T00:01:04.184\n",
      "Time ref:     51910.00074287037 MJD (TT)\n",
      "Duration:     1586.0000000000018 sec = 0.44055555555555603 hours\n",
      "Table length: 100\n",
      "\n",
      "START:\n",
      "Time:  2004-01-21T19:50:02.184\n",
      "Time:  53025.826414166666 MJD (TT)\n",
      "RADEC: 83.6333 24.5144 deg\n",
      "ALTAZ: 11.4575 41.3409 deg\n",
      "\n",
      "\n",
      "END:\n",
      "Time:  2004-01-21T20:16:28.184\n",
      "Time:  53025.844770648146 MJD (TT)\n",
      "RADEC: 83.6333 24.5144 deg\n",
      "ALTAZ: 3.44573 42.1319 deg\n",
      "\n",
      "\n"
     ]
    }
   ],
   "source": [
    "print(pointing_info)"
   ]
  },
  {
   "cell_type": "code",
   "execution_count": 377,
   "metadata": {},
   "outputs": [],
   "source": [
    "a=wcs_geom.to_image().get_coord()\n",
    "b = a.skycoord"
   ]
  },
  {
   "cell_type": "code",
   "execution_count": 381,
   "metadata": {},
   "outputs": [
    {
     "ename": "TypeError",
     "evalue": "'PointingInfo' object does not support indexing",
     "output_type": "error",
     "traceback": [
      "\u001b[0;31m---------------------------------------------------------------------------\u001b[0m",
      "\u001b[0;31mTypeError\u001b[0m                                 Traceback (most recent call last)",
      "\u001b[0;32m<ipython-input-381-5b7568d2cc6d>\u001b[0m in \u001b[0;36m<module>\u001b[0;34m\u001b[0m\n\u001b[0;32m----> 1\u001b[0;31m \u001b[0mb\u001b[0m\u001b[0;34m.\u001b[0m\u001b[0mtransform_to\u001b[0m\u001b[0;34m(\u001b[0m\u001b[0mpointing_info\u001b[0m\u001b[0;34m[\u001b[0m\u001b[0;36m0\u001b[0m\u001b[0;34m]\u001b[0m\u001b[0;34m)\u001b[0m\u001b[0;34m\u001b[0m\u001b[0m\n\u001b[0m",
      "\u001b[0;31mTypeError\u001b[0m: 'PointingInfo' object does not support indexing"
     ]
    }
   ],
   "source": [
    "b.transform_to(pointing_info[0])"
   ]
  },
  {
   "cell_type": "code",
   "execution_count": 371,
   "metadata": {},
   "outputs": [
    {
     "ename": "ValueError",
     "evalue": "operands could not be broadcast together with remapped shapes [original->remapped]: ()->() (250,250,3)->(250,250,newaxis) (250,250,3)->(250,250,newaxis) (100,3)->(100,newaxis) (100,)->(100,newaxis) ()->() and requested shape (3)",
     "output_type": "error",
     "traceback": [
      "\u001b[0;31m---------------------------------------------------------------------------\u001b[0m",
      "\u001b[0;31mValueError\u001b[0m                                Traceback (most recent call last)",
      "\u001b[0;32m<ipython-input-371-6968903df63d>\u001b[0m in \u001b[0;36m<module>\u001b[0;34m\u001b[0m\n\u001b[1;32m      1\u001b[0m \u001b[0;31m#make_map_background_irf(pointing=position, ontime=10000, bkg=bkg, geom=exposure)\u001b[0m\u001b[0;34m\u001b[0m\u001b[0;34m\u001b[0m\u001b[0m\n\u001b[0;32m----> 2\u001b[0;31m \u001b[0mmake_map_background_irf\u001b[0m\u001b[0;34m(\u001b[0m\u001b[0mpointing\u001b[0m\u001b[0;34m=\u001b[0m\u001b[0mpointing_info\u001b[0m\u001b[0;34m,\u001b[0m \u001b[0montime\u001b[0m\u001b[0;34m=\u001b[0m\u001b[0;36m10000\u001b[0m\u001b[0;34m,\u001b[0m \u001b[0mbkg\u001b[0m\u001b[0;34m=\u001b[0m\u001b[0mbkg\u001b[0m\u001b[0;34m,\u001b[0m \u001b[0mgeom\u001b[0m\u001b[0;34m=\u001b[0m\u001b[0mwcs_geom\u001b[0m\u001b[0;34m)\u001b[0m\u001b[0;34m\u001b[0m\u001b[0m\n\u001b[0m",
      "\u001b[0;32m~/LAVORO/CTA/GAMMAPY/GIT/gammapy/gammapy/cube/background.py\u001b[0m in \u001b[0;36mmake_map_background_irf\u001b[0;34m(pointing, ontime, bkg, geom)\u001b[0m\n\u001b[1;32m     39\u001b[0m     \u001b[0mmap_coord\u001b[0m \u001b[0;34m=\u001b[0m \u001b[0mgeom\u001b[0m\u001b[0;34m.\u001b[0m\u001b[0mto_image\u001b[0m\u001b[0;34m(\u001b[0m\u001b[0;34m)\u001b[0m\u001b[0;34m.\u001b[0m\u001b[0mget_coord\u001b[0m\u001b[0;34m(\u001b[0m\u001b[0;34m)\u001b[0m\u001b[0;34m\u001b[0m\u001b[0m\n\u001b[1;32m     40\u001b[0m     \u001b[0msky_coord\u001b[0m \u001b[0;34m=\u001b[0m \u001b[0mmap_coord\u001b[0m\u001b[0;34m.\u001b[0m\u001b[0mskycoord\u001b[0m\u001b[0;34m\u001b[0m\u001b[0m\n\u001b[0;32m---> 41\u001b[0;31m     \u001b[0maltaz_coord\u001b[0m \u001b[0;34m=\u001b[0m \u001b[0msky_coord\u001b[0m\u001b[0;34m.\u001b[0m\u001b[0mtransform_to\u001b[0m\u001b[0;34m(\u001b[0m\u001b[0mpointing\u001b[0m\u001b[0;34m.\u001b[0m\u001b[0maltaz_frame\u001b[0m\u001b[0;34m)\u001b[0m\u001b[0;34m\u001b[0m\u001b[0m\n\u001b[0m\u001b[1;32m     42\u001b[0m \u001b[0;34m\u001b[0m\u001b[0m\n\u001b[1;32m     43\u001b[0m     \u001b[0;31m# Compute FOV coordinates of map relative to pointing\u001b[0m\u001b[0;34m\u001b[0m\u001b[0;34m\u001b[0m\u001b[0m\n",
      "\u001b[0;32m/anaconda2/envs/gammapy-dev/lib/python3.7/site-packages/astropy/coordinates/sky_coordinate.py\u001b[0m in \u001b[0;36mtransform_to\u001b[0;34m(self, frame, merge_attributes)\u001b[0m\n\u001b[1;32m    441\u001b[0m         \u001b[0;31m# Do the transformation, returning a coordinate frame of the desired\u001b[0m\u001b[0;34m\u001b[0m\u001b[0;34m\u001b[0m\u001b[0m\n\u001b[1;32m    442\u001b[0m         \u001b[0;31m# final type (not generic).\u001b[0m\u001b[0;34m\u001b[0m\u001b[0;34m\u001b[0m\u001b[0m\n\u001b[0;32m--> 443\u001b[0;31m         \u001b[0mnew_coord\u001b[0m \u001b[0;34m=\u001b[0m \u001b[0mtrans\u001b[0m\u001b[0;34m(\u001b[0m\u001b[0mself\u001b[0m\u001b[0;34m.\u001b[0m\u001b[0mframe\u001b[0m\u001b[0;34m,\u001b[0m \u001b[0mgeneric_frame\u001b[0m\u001b[0;34m)\u001b[0m\u001b[0;34m\u001b[0m\u001b[0m\n\u001b[0m\u001b[1;32m    444\u001b[0m \u001b[0;34m\u001b[0m\u001b[0m\n\u001b[1;32m    445\u001b[0m         \u001b[0;31m# Finally make the new SkyCoord object from the `new_coord` and\u001b[0m\u001b[0;34m\u001b[0m\u001b[0;34m\u001b[0m\u001b[0m\n",
      "\u001b[0;32m/anaconda2/envs/gammapy-dev/lib/python3.7/site-packages/astropy/coordinates/transformations.py\u001b[0m in \u001b[0;36m__call__\u001b[0;34m(self, fromcoord, toframe)\u001b[0m\n\u001b[1;32m   1375\u001b[0m \u001b[0;34m\u001b[0m\u001b[0m\n\u001b[1;32m   1376\u001b[0m             \u001b[0mcurr_toframe\u001b[0m \u001b[0;34m=\u001b[0m \u001b[0mt\u001b[0m\u001b[0;34m.\u001b[0m\u001b[0mtosys\u001b[0m\u001b[0;34m(\u001b[0m\u001b[0;34m**\u001b[0m\u001b[0mfrattrs\u001b[0m\u001b[0;34m)\u001b[0m\u001b[0;34m\u001b[0m\u001b[0m\n\u001b[0;32m-> 1377\u001b[0;31m             \u001b[0mcurr_coord\u001b[0m \u001b[0;34m=\u001b[0m \u001b[0mt\u001b[0m\u001b[0;34m(\u001b[0m\u001b[0mcurr_coord\u001b[0m\u001b[0;34m,\u001b[0m \u001b[0mcurr_toframe\u001b[0m\u001b[0;34m)\u001b[0m\u001b[0;34m\u001b[0m\u001b[0m\n\u001b[0m\u001b[1;32m   1378\u001b[0m \u001b[0;34m\u001b[0m\u001b[0m\n\u001b[1;32m   1379\u001b[0m         \u001b[0;31m# this is safe even in the case where self.transforms is empty, because\u001b[0m\u001b[0;34m\u001b[0m\u001b[0;34m\u001b[0m\u001b[0m\n",
      "\u001b[0;32m/anaconda2/envs/gammapy-dev/lib/python3.7/site-packages/astropy/coordinates/transformations.py\u001b[0m in \u001b[0;36m__call__\u001b[0;34m(self, fromcoord, toframe)\u001b[0m\n\u001b[1;32m    978\u001b[0m             \u001b[0;32mreturn\u001b[0m \u001b[0mreprwithoutdiff\u001b[0m\u001b[0;34m.\u001b[0m\u001b[0mrealize_frame\u001b[0m\u001b[0;34m(\u001b[0m\u001b[0mreprwithdiff\u001b[0m\u001b[0;34m)\u001b[0m\u001b[0;34m\u001b[0m\u001b[0m\n\u001b[1;32m    979\u001b[0m         \u001b[0;32melse\u001b[0m\u001b[0;34m:\u001b[0m\u001b[0;34m\u001b[0m\u001b[0m\n\u001b[0;32m--> 980\u001b[0;31m             \u001b[0;32mreturn\u001b[0m \u001b[0msupcall\u001b[0m\u001b[0;34m(\u001b[0m\u001b[0mfromcoord\u001b[0m\u001b[0;34m,\u001b[0m \u001b[0mtoframe\u001b[0m\u001b[0;34m)\u001b[0m\u001b[0;34m\u001b[0m\u001b[0m\n\u001b[0m\u001b[1;32m    981\u001b[0m \u001b[0;34m\u001b[0m\u001b[0m\n\u001b[1;32m    982\u001b[0m \u001b[0;34m\u001b[0m\u001b[0m\n",
      "\u001b[0;32m/anaconda2/envs/gammapy-dev/lib/python3.7/site-packages/astropy/coordinates/builtin_frames/icrs_cirs_transforms.py\u001b[0m in \u001b[0;36micrs_to_cirs\u001b[0;34m(icrs_coo, cirs_frame)\u001b[0m\n\u001b[1;32m     36\u001b[0m         \u001b[0mi_ra\u001b[0m \u001b[0;34m=\u001b[0m \u001b[0musrepr\u001b[0m\u001b[0;34m.\u001b[0m\u001b[0mlon\u001b[0m\u001b[0;34m.\u001b[0m\u001b[0mto_value\u001b[0m\u001b[0;34m(\u001b[0m\u001b[0mu\u001b[0m\u001b[0;34m.\u001b[0m\u001b[0mradian\u001b[0m\u001b[0;34m)\u001b[0m\u001b[0;34m\u001b[0m\u001b[0m\n\u001b[1;32m     37\u001b[0m         \u001b[0mi_dec\u001b[0m \u001b[0;34m=\u001b[0m \u001b[0musrepr\u001b[0m\u001b[0;34m.\u001b[0m\u001b[0mlat\u001b[0m\u001b[0;34m.\u001b[0m\u001b[0mto_value\u001b[0m\u001b[0;34m(\u001b[0m\u001b[0mu\u001b[0m\u001b[0;34m.\u001b[0m\u001b[0mradian\u001b[0m\u001b[0;34m)\u001b[0m\u001b[0;34m\u001b[0m\u001b[0m\n\u001b[0;32m---> 38\u001b[0;31m         \u001b[0mcirs_ra\u001b[0m\u001b[0;34m,\u001b[0m \u001b[0mcirs_dec\u001b[0m \u001b[0;34m=\u001b[0m \u001b[0matciqz\u001b[0m\u001b[0;34m(\u001b[0m\u001b[0mi_ra\u001b[0m\u001b[0;34m,\u001b[0m \u001b[0mi_dec\u001b[0m\u001b[0;34m,\u001b[0m \u001b[0mastrom\u001b[0m\u001b[0;34m)\u001b[0m\u001b[0;34m\u001b[0m\u001b[0m\n\u001b[0m\u001b[1;32m     39\u001b[0m \u001b[0;34m\u001b[0m\u001b[0m\n\u001b[1;32m     40\u001b[0m         newrep = UnitSphericalRepresentation(lat=u.Quantity(cirs_dec, u.radian, copy=False),\n",
      "\u001b[0;32m/anaconda2/envs/gammapy-dev/lib/python3.7/site-packages/astropy/coordinates/builtin_frames/utils.py\u001b[0m in \u001b[0;36matciqz\u001b[0;34m(rc, dc, astrom)\u001b[0m\n\u001b[1;32m    249\u001b[0m \u001b[0;34m\u001b[0m\u001b[0m\n\u001b[1;32m    250\u001b[0m     \u001b[0;31m# Light deflection by the Sun, giving BCRS natural direction.\u001b[0m\u001b[0;34m\u001b[0m\u001b[0;34m\u001b[0m\u001b[0m\n\u001b[0;32m--> 251\u001b[0;31m     \u001b[0mpnat\u001b[0m \u001b[0;34m=\u001b[0m \u001b[0merfa\u001b[0m\u001b[0;34m.\u001b[0m\u001b[0mld\u001b[0m\u001b[0;34m(\u001b[0m\u001b[0;36m1.0\u001b[0m\u001b[0;34m,\u001b[0m \u001b[0mpco\u001b[0m\u001b[0;34m,\u001b[0m \u001b[0mpco\u001b[0m\u001b[0;34m,\u001b[0m \u001b[0mastrom\u001b[0m\u001b[0;34m[\u001b[0m\u001b[0;34m'eh'\u001b[0m\u001b[0;34m]\u001b[0m\u001b[0;34m,\u001b[0m \u001b[0mastrom\u001b[0m\u001b[0;34m[\u001b[0m\u001b[0;34m'em'\u001b[0m\u001b[0;34m]\u001b[0m\u001b[0;34m,\u001b[0m \u001b[0;36m5e-8\u001b[0m\u001b[0;34m)\u001b[0m\u001b[0;34m\u001b[0m\u001b[0m\n\u001b[0m\u001b[1;32m    252\u001b[0m \u001b[0;34m\u001b[0m\u001b[0m\n\u001b[1;32m    253\u001b[0m     \u001b[0;31m# Aberration, giving GCRS proper direction.\u001b[0m\u001b[0;34m\u001b[0m\u001b[0;34m\u001b[0m\u001b[0m\n",
      "\u001b[0;32m/anaconda2/envs/gammapy-dev/lib/python3.7/site-packages/astropy/_erfa/core.py\u001b[0m in \u001b[0;36mld\u001b[0;34m(bm, p, q, e, em, dlim)\u001b[0m\n\u001b[1;32m   4290\u001b[0m \u001b[0;34m\u001b[0m\u001b[0m\n\u001b[1;32m   4291\u001b[0m     \"\"\"\n\u001b[0;32m-> 4292\u001b[0;31m     \u001b[0mp1\u001b[0m \u001b[0;34m=\u001b[0m \u001b[0mufunc\u001b[0m\u001b[0;34m.\u001b[0m\u001b[0mld\u001b[0m\u001b[0;34m(\u001b[0m\u001b[0mbm\u001b[0m\u001b[0;34m,\u001b[0m \u001b[0mp\u001b[0m\u001b[0;34m,\u001b[0m \u001b[0mq\u001b[0m\u001b[0;34m,\u001b[0m \u001b[0me\u001b[0m\u001b[0;34m,\u001b[0m \u001b[0mem\u001b[0m\u001b[0;34m,\u001b[0m \u001b[0mdlim\u001b[0m\u001b[0;34m)\u001b[0m\u001b[0;34m\u001b[0m\u001b[0m\n\u001b[0m\u001b[1;32m   4293\u001b[0m     \u001b[0;32mreturn\u001b[0m \u001b[0mp1\u001b[0m\u001b[0;34m\u001b[0m\u001b[0m\n\u001b[1;32m   4294\u001b[0m \u001b[0;34m\u001b[0m\u001b[0m\n",
      "\u001b[0;31mValueError\u001b[0m: operands could not be broadcast together with remapped shapes [original->remapped]: ()->() (250,250,3)->(250,250,newaxis) (250,250,3)->(250,250,newaxis) (100,3)->(100,newaxis) (100,)->(100,newaxis) ()->() and requested shape (3)"
     ]
    }
   ],
   "source": [
    "\n",
    "#make_map_background_irf(pointing=position, ontime=10000, bkg=bkg, geom=exposure)\n",
    "make_map_background_irf(pointing=pointing_info, ontime=10000, bkg=bkg, geom=wcs_geom)"
   ]
  },
  {
   "cell_type": "code",
   "execution_count": 368,
   "metadata": {},
   "outputs": [],
   "source": [
    "from gammapy.data import PointingInfo\n",
    "pointing_info = PointingInfo.read('$GAMMAPY_DATA/tests/hess_event_list.fits')"
   ]
  },
  {
   "cell_type": "code",
   "execution_count": 369,
   "metadata": {},
   "outputs": [
    {
     "name": "stdout",
     "output_type": "stream",
     "text": [
      "<SkyCoord (ICRS): (ra, dec) in deg\n",
      "    (83.63333333, 24.51444444)>\n"
     ]
    }
   ],
   "source": [
    "print(pointing_info.radec[0])"
   ]
  },
  {
   "cell_type": "code",
   "execution_count": null,
   "metadata": {},
   "outputs": [],
   "source": []
  }
 ],
 "metadata": {
  "kernelspec": {
   "display_name": "Python 3",
   "language": "python",
   "name": "python3"
  },
  "language_info": {
   "codemirror_mode": {
    "name": "ipython",
    "version": 3
   },
   "file_extension": ".py",
   "mimetype": "text/x-python",
   "name": "python",
   "nbconvert_exporter": "python",
   "pygments_lexer": "ipython3",
   "version": "3.7.0"
  }
 },
 "nbformat": 4,
 "nbformat_minor": 2
}
